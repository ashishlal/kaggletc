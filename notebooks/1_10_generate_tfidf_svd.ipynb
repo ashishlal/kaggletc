{
 "cells": [
  {
   "cell_type": "code",
   "execution_count": 1,
   "metadata": {},
   "outputs": [
    {
     "name": "stdout",
     "output_type": "stream",
     "text": [
      "comment_text_unigram\n",
      "(159571, 38394)\n",
      "(153164, 38394)\n",
      "comment_text_bigram\n",
      "(159571, 333859)\n",
      "(153164, 333859)\n"
     ]
    }
   ],
   "source": [
    "import pandas as pd\n",
    "import numpy as np\n",
    "from scipy import sparse as ssp\n",
    "from sklearn.model_selection import KFold,train_test_split,StratifiedKFold\n",
    "from sklearn.linear_model import LogisticRegression\n",
    "from sklearn.preprocessing import MinMaxScaler\n",
    "from sklearn.metrics import log_loss\n",
    "from sklearn.decomposition import NMF,TruncatedSVD\n",
    "# from tsne import bh_sne\n",
    "seed = 1024\n",
    "np.random.seed(seed)\n",
    "# from config import path\n",
    "\n",
    "path = '../cache/'\n",
    "\n",
    "feats= ['comment_text_unigram','comment_text_bigram']\n",
    "for f in feats:\n",
    "    print(f)\n",
    "    X = pd.read_pickle(path+'train_%s_tfidf.pkl'%f)\n",
    "    print(X.shape)\n",
    "    len_train = X.shape[0]\n",
    "    X_t = pd.read_pickle(path+'test_%s_tfidf.pkl'%f)\n",
    "    print(X_t.shape)\n",
    "    data_all = ssp.vstack([X,X_t])\n",
    "    data_all = TruncatedSVD(n_components=16,random_state=seed).fit_transform(data_all)\n",
    "    del X\n",
    "    del X_t\n",
    "    # data_all = bh_sne(data_all)\n",
    "    X = data_all[:len_train]\n",
    "    X_t = data_all[len_train:]\n",
    "    del data_all\n",
    "    pd.to_pickle(X,path+'train_%s_tfidf_svd.pkl'%f)\n",
    "    pd.to_pickle(X_t,path+'test_%s_tfidf_svd.pkl'%f)\n"
   ]
  },
  {
   "cell_type": "code",
   "execution_count": 2,
   "metadata": {},
   "outputs": [],
   "source": [
    "df_test = pd.read_csv('../data/test.csv')"
   ]
  },
  {
   "cell_type": "code",
   "execution_count": 3,
   "metadata": {},
   "outputs": [
    {
     "data": {
      "text/plain": [
       "(153164, 2)"
      ]
     },
     "execution_count": 3,
     "metadata": {},
     "output_type": "execute_result"
    }
   ],
   "source": [
    "df_test.shape"
   ]
  },
  {
   "cell_type": "code",
   "execution_count": null,
   "metadata": {},
   "outputs": [],
   "source": []
  }
 ],
 "metadata": {
  "kernelspec": {
   "display_name": "ktc",
   "language": "python",
   "name": "ktc"
  },
  "language_info": {
   "codemirror_mode": {
    "name": "ipython",
    "version": 3
   },
   "file_extension": ".py",
   "mimetype": "text/x-python",
   "name": "python",
   "nbconvert_exporter": "python",
   "pygments_lexer": "ipython3",
   "version": "3.6.4"
  }
 },
 "nbformat": 4,
 "nbformat_minor": 2
}
