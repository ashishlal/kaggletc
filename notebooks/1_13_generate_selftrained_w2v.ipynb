{
 "cells": [
  {
   "cell_type": "code",
   "execution_count": 1,
   "metadata": {},
   "outputs": [],
   "source": [
    "import numpy as np\n",
    "import pandas as pd\n",
    "from sklearn.preprocessing import OneHotEncoder,LabelEncoder,StandardScaler\n",
    "from sklearn.decomposition import TruncatedSVD,PCA\n",
    "from sklearn.metrics.pairwise import cosine_similarity, pairwise_distances\n",
    "from sklearn.feature_extraction.text import TfidfVectorizer\n",
    "from gensim.models import Word2Vec\n",
    "import pickle\n",
    "import string\n",
    "# from config import path\n",
    "\n",
    "path = '../cache/'\n",
    "seed = 1024\n",
    "np.random.seed(seed)\n",
    "\n",
    "\n",
    "\n",
    "\n",
    "string.punctuation.__add__('!!')\n",
    "string.punctuation.__add__('(')\n",
    "string.punctuation.__add__(')')\n",
    "string.punctuation.__add__('?')\n",
    "string.punctuation.__add__('.')\n",
    "string.punctuation.__add__(',')\n",
    "\n",
    "\n",
    "def remove_punctuation(x):\n",
    "    new_line = [ w for w in list(x) if w not in string.punctuation]\n",
    "    new_line = ''.join(new_line)\n",
    "    return new_line\n"
   ]
  },
  {
   "cell_type": "code",
   "execution_count": 2,
   "metadata": {},
   "outputs": [],
   "source": [
    "def calc_w2v_sim(row,embedder,idf_dict,dim):\n",
    "    '''\n",
    "    Calc w2v similarities and diff of centers of query\\title\n",
    "    '''\n",
    "    a2 = [x for x in row['comment_text'].lower().split() if x in embedder.wv.vocab]\n",
    "    \n",
    "    vectorA = np.zeros(dim)\n",
    "    for w in a2:\n",
    "        if w in idf_dict:\n",
    "            coef = idf_dict[w]\n",
    "        else:\n",
    "            coef = idf_dict['default_idf']\n",
    "        vectorA += coef*embedder[w]\n",
    "    if len(a2)!=0:\n",
    "        vectorA /= len(a2)\n",
    "\n",
    "    return (vectorA)\n"
   ]
  },
  {
   "cell_type": "code",
   "execution_count": 3,
   "metadata": {},
   "outputs": [],
   "source": [
    "def gen_w2v(train,dim=100):\n",
    "    corpus = []\n",
    "    ft = ['comment_text']\n",
    "    for f in ft:\n",
    "        train[f] = train[f].astype(str).apply(lambda x:remove_punctuation(x))\n",
    "\n",
    "    model = Word2Vec.load(path+'my_w2v_%s.mdl'%dim)\n",
    "    idf_dict = pickle.load(open(path+'idf_dict.pkl','rb'))\n",
    "\n",
    "    X_w2v = []\n",
    "    sim_list = []\n",
    "    dist_list = []\n",
    "    for i,row in train.astype(str).iterrows():\n",
    "        va= calc_w2v_sim(row,model,idf_dict,dim)\n",
    "        \n",
    "        X_w2v.append(va)\n",
    "\n",
    "    X_w2v_tr = np.array(X_w2v)\n",
    "    return X_w2v_tr\n",
    "\n"
   ]
  },
  {
   "cell_type": "code",
   "execution_count": 4,
   "metadata": {},
   "outputs": [
    {
     "name": "stdout",
     "output_type": "stream",
     "text": [
      "Generate selftrained w2v sim,distance and diff\n"
     ]
    },
    {
     "name": "stderr",
     "output_type": "stream",
     "text": [
      "/home/watts/anaconda3/envs/ktc/lib/python3.6/site-packages/ipykernel_launcher.py:13: DeprecationWarning: Call to deprecated `__getitem__` (Method will be removed in 4.0.0, use self.wv.__getitem__() instead).\n",
      "  del sys.path[0]\n"
     ]
    }
   ],
   "source": [
    "if __name__ == '__main__':\n",
    "    dim = 100\n",
    "    ft = ['comment_text']\n",
    "    train = pd.read_csv(\"../data/train.csv\")[ft]\n",
    "    test = pd.read_csv(\"../data/test.csv\")[ft]\n",
    "\n",
    "    corpus = []\n",
    "    for f in ft:\n",
    "        train[f] = train[f].astype(str).apply(lambda x:remove_punctuation(x))\n",
    "        test[f] = test[f].astype(str).apply(lambda x:remove_punctuation(x))\n",
    "        corpus+=train[f].values.tolist()\n",
    "\n",
    "    corpus = [d.lower().split(\" \") for d in corpus]\n",
    "    model = Word2Vec(corpus, size=dim, window=5, min_count=5, workers=7)\n",
    "    model.save(path+'my_w2v_%s.mdl'%dim)\n",
    "\n",
    "    print('Generate selftrained w2v sim,distance and diff')\n",
    "\n",
    "    X_w2v_tr = gen_w2v(train,dim=dim)\n",
    "    np.savetxt(path+'train_selftrained_w2v.txt',X_w2v_tr)\n",
    "    del X_w2v_tr\n",
    "\n",
    "    X_w2v_te = gen_w2v(test,dim=dim)\n",
    "    np.savetxt(path+'test_selftrained_w2v.txt',X_w2v_te)\n"
   ]
  },
  {
   "cell_type": "code",
   "execution_count": null,
   "metadata": {},
   "outputs": [],
   "source": []
  }
 ],
 "metadata": {
  "kernelspec": {
   "display_name": "ktc",
   "language": "python",
   "name": "ktc"
  },
  "language_info": {
   "codemirror_mode": {
    "name": "ipython",
    "version": 3
   },
   "file_extension": ".py",
   "mimetype": "text/x-python",
   "name": "python",
   "nbconvert_exporter": "python",
   "pygments_lexer": "ipython3",
   "version": "3.6.4"
  }
 },
 "nbformat": 4,
 "nbformat_minor": 2
}
