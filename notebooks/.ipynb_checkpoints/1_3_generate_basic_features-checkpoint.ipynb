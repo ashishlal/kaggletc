{
 "cells": [
  {
   "cell_type": "code",
   "execution_count": 1,
   "metadata": {},
   "outputs": [],
   "source": [
    "from datetime import datetime\n",
    "from csv import DictReader\n",
    "from math import exp, log, sqrt\n",
    "from random import random,shuffle\n",
    "import pickle\n",
    "import sys\n",
    "from feat_utils import get_jaccard\n",
    "from feat_utils import get_dice\n",
    "from feat_utils import get_count_q1_in_q2\n",
    "from feat_utils import get_ratio_q1_in_q2\n",
    "from feat_utils import get_count_of_question\n",
    "from feat_utils import get_count_of_unique_question\n",
    "from feat_utils import get_ratio_of_unique_question\n",
    "from feat_utils import get_count_of_digit\n",
    "from feat_utils import get_ratio_of_digit\n",
    "path = '../cache/'\n",
    "\n",
    "# stops = set([\"http\",\"www\",\"img\",\"border\",\"home\",\"body\",\"a\",\"about\",\"above\",\"after\",\"again\",\"against\",\"all\",\"am\",\"an\",\n",
    "# \"and\",\"any\",\"are\",\"aren't\",\"as\",\"at\",\"be\",\"because\",\"been\",\"before\",\"being\",\"below\",\"between\",\"both\",\"but\",\"by\",\"can't\",\n",
    "# \"cannot\",\"could\",\"couldn't\",\"did\",\"didn't\",\"do\",\"does\",\"doesn't\",\"doing\",\"don't\",\"down\",\"during\",\"each\",\"few\",\"for\",\"from\",\n",
    "# \"further\",\"had\",\"hadn't\",\"has\",\"hasn't\",\"have\",\"haven't\",\"having\",\"he\",\"he'd\",\"he'll\",\"he's\",\"her\",\"here\",\"here's\",\"hers\",\n",
    "# \"herself\",\"him\",\"himself\",\"his\",\"how\",\"how's\",\"i\",\"i'd\",\"i'll\",\"i'm\",\"i've\",\"if\",\"in\",\"into\",\"is\",\"isn't\",\"it\",\"it's\",\"its\",\n",
    "# \"itself\",\"let's\",\"me\",\"more\",\"most\",\"mustn't\",\"my\",\"myself\",\"no\",\"nor\",\"not\",\"of\",\"off\",\"on\",\"once\",\"only\",\"or\",\"other\",\"ought\",\n",
    "# \"our\",\"ours\",\"ourselves\",\"out\",\"over\",\"own\",\"same\",\"shan't\",\"she\",\"she'd\",\"she'll\",\"she's\",\"should\",\"shouldn't\",\"so\",\"some\",\"such\",\n",
    "# \"than\",\"that\",\"that's\",\"the\",\"their\",\"theirs\",\"them\",\"themselves\",\"then\",\"there\",\"there's\",\"these\",\"they\",\"they'd\",\"they'll\",\"they're\",\n",
    "# \"they've\",\"this\",\"those\",\"through\",\"to\",\"too\",\"under\",\"until\",\"up\",\"very\",\"was\",\"wasn't\",\"we\",\"we'd\",\"we'll\",\"we're\",\"we've\",\"were\",\n",
    "# \"weren't\",\"what\",\"what's\",\"when\",\"when's\"\"where\",\"where's\",\"which\",\"while\",\"who\",\"who's\",\"whom\",\"why\",\"why's\",\"with\",\"won't\",\"would\",\n",
    "# \"wouldn't\",\"you\",\"you'd\",\"you'll\",\"you're\",\"you've\",\"your\",\"yours\",\"yourself\",\"yourselves\" ])\n",
    "\n"
   ]
  },
  {
   "cell_type": "code",
   "execution_count": 2,
   "metadata": {},
   "outputs": [],
   "source": [
    "def prepare_ngram_interaction(path,out,ngram='unigram'):\n",
    "    print(path)\n",
    "    c = 0\n",
    "    start = datetime.now()\n",
    "    with open(out, 'w') as outfile:\n",
    "        outfile.write('count_of_comment_text,count_of_unique_comment_text,ratio_of_unique_comment_text,count_of_digit_comment_text,ratio_of_digit_comment_text\\n')\n",
    "        for t, row in enumerate(DictReader(open(path), delimiter=',')):\n",
    "            if c%100000==0:\n",
    "                print('finished',c)\n",
    "            q1_ngram = str(row['comment_text_%s'%ngram]).split()\n",
    "            \n",
    "            count_of_question1 = get_count_of_question(q1_ngram)\n",
    "                        \n",
    "            count_of_unique_question1 = get_count_of_unique_question(q1_ngram)\n",
    "\n",
    "            ratio_of_unique_question1 = get_ratio_of_unique_question(q1_ngram)\n",
    "\n",
    "            count_of_digit_question1 = get_count_of_digit(q1_ngram)\n",
    "                        \n",
    "            ratio_of_digit_question1 = get_ratio_of_digit(q1_ngram)\n",
    "    \n",
    "            outfile.write('%s,%s,%s,%s,%s\\n' % (\n",
    "                \n",
    "                count_of_question1,\n",
    "                count_of_unique_question1,\n",
    "                ratio_of_unique_question1,\n",
    "                count_of_digit_question1,\n",
    "                ratio_of_digit_question1,\n",
    "                \n",
    "                ))\n",
    "            c+=1\n",
    "        end = datetime.now()\n",
    "\n",
    "    print('times:',end-start)"
   ]
  },
  {
   "cell_type": "code",
   "execution_count": 3,
   "metadata": {},
   "outputs": [
    {
     "name": "stdout",
     "output_type": "stream",
     "text": [
      "../cache/train_unigram.csv\n",
      "finished 0\n",
      "finished 100000\n",
      "times: 0:00:04.385962\n",
      "../cache/test_unigram.csv\n",
      "finished 0\n",
      "finished 100000\n",
      "times: 0:00:03.820514\n"
     ]
    }
   ],
   "source": [
    "prepare_ngram_interaction(path+'train_unigram.csv',path+'train_unigram_features.csv',ngram='unigram')\n",
    "prepare_ngram_interaction(path+'test_unigram.csv',path+'test_unigram_features.csv',ngram='unigram')"
   ]
  },
  {
   "cell_type": "code",
   "execution_count": 4,
   "metadata": {},
   "outputs": [
    {
     "name": "stdout",
     "output_type": "stream",
     "text": [
      "../cache/train_bigram.csv\n",
      "finished 0\n"
     ]
    },
    {
     "ename": "KeyError",
     "evalue": "'comment_text_unigram'",
     "output_type": "error",
     "traceback": [
      "\u001b[0;31m---------------------------------------------------------------------------\u001b[0m",
      "\u001b[0;31mKeyError\u001b[0m                                  Traceback (most recent call last)",
      "\u001b[0;32m<ipython-input-4-9ecb841539a1>\u001b[0m in \u001b[0;36m<module>\u001b[0;34m()\u001b[0m\n\u001b[0;32m----> 1\u001b[0;31m \u001b[0mprepare_ngram_interaction\u001b[0m\u001b[0;34m(\u001b[0m\u001b[0mpath\u001b[0m\u001b[0;34m+\u001b[0m\u001b[0;34m'train_bigram.csv'\u001b[0m\u001b[0;34m,\u001b[0m\u001b[0mpath\u001b[0m\u001b[0;34m+\u001b[0m\u001b[0;34m'train_bigram_features.csv'\u001b[0m\u001b[0;34m,\u001b[0m\u001b[0mngram\u001b[0m\u001b[0;34m=\u001b[0m\u001b[0;34m'unigram'\u001b[0m\u001b[0;34m)\u001b[0m\u001b[0;34m\u001b[0m\u001b[0m\n\u001b[0m\u001b[1;32m      2\u001b[0m \u001b[0mprepare_ngram_interaction\u001b[0m\u001b[0;34m(\u001b[0m\u001b[0mpath\u001b[0m\u001b[0;34m+\u001b[0m\u001b[0;34m'test_bigram.csv'\u001b[0m\u001b[0;34m,\u001b[0m\u001b[0mpath\u001b[0m\u001b[0;34m+\u001b[0m\u001b[0;34m'test_bigram_features.csv'\u001b[0m\u001b[0;34m,\u001b[0m\u001b[0mngram\u001b[0m\u001b[0;34m=\u001b[0m\u001b[0;34m'unigram'\u001b[0m\u001b[0;34m)\u001b[0m\u001b[0;34m\u001b[0m\u001b[0m\n",
      "\u001b[0;32m<ipython-input-2-0f97e3b699eb>\u001b[0m in \u001b[0;36mprepare_ngram_interaction\u001b[0;34m(path, out, ngram)\u001b[0m\n\u001b[1;32m      8\u001b[0m             \u001b[0;32mif\u001b[0m \u001b[0mc\u001b[0m\u001b[0;34m%\u001b[0m\u001b[0;36m100000\u001b[0m\u001b[0;34m==\u001b[0m\u001b[0;36m0\u001b[0m\u001b[0;34m:\u001b[0m\u001b[0;34m\u001b[0m\u001b[0m\n\u001b[1;32m      9\u001b[0m                 \u001b[0mprint\u001b[0m\u001b[0;34m(\u001b[0m\u001b[0;34m'finished'\u001b[0m\u001b[0;34m,\u001b[0m\u001b[0mc\u001b[0m\u001b[0;34m)\u001b[0m\u001b[0;34m\u001b[0m\u001b[0m\n\u001b[0;32m---> 10\u001b[0;31m             \u001b[0mq1_ngram\u001b[0m \u001b[0;34m=\u001b[0m \u001b[0mstr\u001b[0m\u001b[0;34m(\u001b[0m\u001b[0mrow\u001b[0m\u001b[0;34m[\u001b[0m\u001b[0;34m'comment_text_%s'\u001b[0m\u001b[0;34m%\u001b[0m\u001b[0mngram\u001b[0m\u001b[0;34m]\u001b[0m\u001b[0;34m)\u001b[0m\u001b[0;34m.\u001b[0m\u001b[0msplit\u001b[0m\u001b[0;34m(\u001b[0m\u001b[0;34m)\u001b[0m\u001b[0;34m\u001b[0m\u001b[0m\n\u001b[0m\u001b[1;32m     11\u001b[0m \u001b[0;34m\u001b[0m\u001b[0m\n\u001b[1;32m     12\u001b[0m             \u001b[0mcount_of_question1\u001b[0m \u001b[0;34m=\u001b[0m \u001b[0mget_count_of_question\u001b[0m\u001b[0;34m(\u001b[0m\u001b[0mq1_ngram\u001b[0m\u001b[0;34m)\u001b[0m\u001b[0;34m\u001b[0m\u001b[0m\n",
      "\u001b[0;31mKeyError\u001b[0m: 'comment_text_unigram'"
     ]
    }
   ],
   "source": [
    "prepare_ngram_interaction(path+'train_bigram.csv',path+'train_bigram_features.csv',ngram='bigram')\n",
    "prepare_ngram_interaction(path+'test_bigram.csv',path+'test_bigram_features.csv',ngram='bigram')"
   ]
  },
  {
   "cell_type": "code",
   "execution_count": null,
   "metadata": {},
   "outputs": [],
   "source": []
  }
 ],
 "metadata": {
  "kernelspec": {
   "display_name": "ktc",
   "language": "python",
   "name": "ktc"
  },
  "language_info": {
   "codemirror_mode": {
    "name": "ipython",
    "version": 3
   },
   "file_extension": ".py",
   "mimetype": "text/x-python",
   "name": "python",
   "nbconvert_exporter": "python",
   "pygments_lexer": "ipython3",
   "version": "3.6.4"
  }
 },
 "nbformat": 4,
 "nbformat_minor": 2
}
