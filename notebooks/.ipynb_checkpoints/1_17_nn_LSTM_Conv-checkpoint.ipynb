{
 "cells": [
  {
   "cell_type": "code",
   "execution_count": 1,
   "metadata": {},
   "outputs": [
    {
     "name": "stderr",
     "output_type": "stream",
     "text": [
      "Using TensorFlow backend.\n",
      "/home/watts/anaconda3/envs/ktc/lib/python3.6/site-packages/h5py/__init__.py:36: FutureWarning: Conversion of the second argument of issubdtype from `float` to `np.floating` is deprecated. In future, it will be treated as `np.float64 == np.dtype(float).type`.\n",
      "  from ._conv import register_converters as _register_converters\n"
     ]
    }
   ],
   "source": [
    "import numpy as np # linear algebra\n",
    "import pandas as pd # data processing, CSV file I/O (e.g. pd.read_csv)\n",
    "\n",
    "# Input data files are available in the \"../input/\" directory.\n",
    "# For example, running this (by clicking run or pressing Shift+Enter) will list the files in the input directory\n",
    "\n",
    "import os\n",
    "from keras.layers import Dense,Input,LSTM,Bidirectional,Activation,Conv1D,GRU\n",
    "from keras.callbacks import Callback\n",
    "from keras.layers import Dropout,Embedding,GlobalMaxPooling1D, MaxPooling1D, Add, Flatten\n",
    "from keras.preprocessing import text, sequence\n",
    "from keras.layers import GlobalAveragePooling1D, GlobalMaxPooling1D, concatenate, SpatialDropout1D\n",
    "from keras import initializers, regularizers, constraints, optimizers, layers, callbacks\n",
    "from keras.callbacks import EarlyStopping,ModelCheckpoint\n",
    "from keras.models import Model\n",
    "from keras.optimizers import Adam\n",
    "from sklearn.model_selection import train_test_split\n",
    "from sklearn.metrics import accuracy_score\n",
    "from sklearn.metrics import roc_auc_score\n",
    "\n",
    "from Attention import *\n",
    "from AttentionWithContext import *"
   ]
  },
  {
   "cell_type": "code",
   "execution_count": 2,
   "metadata": {},
   "outputs": [],
   "source": [
    "EMBEDDING_FILE = '../data/glove.840B.300d.txt'\n",
    "train = pd.read_csv('../data/train.csv')\n",
    "test = pd.read_csv('../data/test.csv')\n",
    "train[\"comment_text\"].fillna(\"fillna\")\n",
    "test[\"comment_text\"].fillna(\"fillna\")\n",
    "X_train = train[\"comment_text\"].str.lower()\n",
    "y_train = train[[\"toxic\", \"severe_toxic\", \"obscene\", \"threat\", \"insult\", \"identity_hate\"]].values\n",
    "\n",
    "X_test = test[\"comment_text\"].str.lower()"
   ]
  },
  {
   "cell_type": "code",
   "execution_count": 3,
   "metadata": {},
   "outputs": [],
   "source": [
    "max_features=100000\n",
    "maxlen=150\n",
    "embed_size=300"
   ]
  },
  {
   "cell_type": "code",
   "execution_count": 4,
   "metadata": {},
   "outputs": [],
   "source": [
    "class RocAucEvaluation(Callback):\n",
    "    def __init__(self, validation_data=(), interval=1):\n",
    "        super(Callback, self).__init__()\n",
    "\n",
    "        self.interval = interval\n",
    "        self.X_val, self.y_val = validation_data\n",
    "\n",
    "    def on_epoch_end(self, epoch, logs={}):\n",
    "        if epoch % self.interval == 0:\n",
    "            y_pred = self.model.predict(self.X_val, verbose=0)\n",
    "            score = roc_auc_score(self.y_val, y_pred)\n",
    "            print(\"\\n ROC-AUC - epoch: {:d} - score: {:.6f}\".format(epoch+1, score))"
   ]
  },
  {
   "cell_type": "code",
   "execution_count": 5,
   "metadata": {},
   "outputs": [],
   "source": [
    "tok=text.Tokenizer(num_words=max_features,lower=True)\n",
    "tok.fit_on_texts(list(X_train)+list(X_test))\n",
    "X_train=tok.texts_to_sequences(X_train)\n",
    "X_test=tok.texts_to_sequences(X_test)\n",
    "x_train=sequence.pad_sequences(X_train,maxlen=maxlen)\n",
    "x_test=sequence.pad_sequences(X_test,maxlen=maxlen)"
   ]
  },
  {
   "cell_type": "code",
   "execution_count": 6,
   "metadata": {},
   "outputs": [],
   "source": [
    "embeddings_index = {}\n",
    "with open(EMBEDDING_FILE,encoding='utf8') as f:\n",
    "    for line in f:\n",
    "        values = line.rstrip().rsplit(' ')\n",
    "        word = values[0]\n",
    "        coefs = np.asarray(values[1:], dtype='float32')\n",
    "        embeddings_index[word] = coefs"
   ]
  },
  {
   "cell_type": "code",
   "execution_count": 7,
   "metadata": {},
   "outputs": [],
   "source": [
    "word_index = tok.word_index\n",
    "#prepare embedding matrix\n",
    "num_words = min(max_features, len(word_index) + 1)\n",
    "embedding_matrix = np.zeros((num_words, embed_size))\n",
    "for word, i in word_index.items():\n",
    "    if i >= max_features:\n",
    "        continue\n",
    "    embedding_vector = embeddings_index.get(word)\n",
    "    if embedding_vector is not None:\n",
    "        # words not found in embedding index will be all-zeros.\n",
    "        embedding_matrix[i] = embedding_vector"
   ]
  },
  {
   "cell_type": "code",
   "execution_count": 8,
   "metadata": {},
   "outputs": [
    {
     "name": "stdout",
     "output_type": "stream",
     "text": [
      "WARNING:tensorflow:From /home/watts/anaconda3/envs/ktc/lib/python3.6/site-packages/keras/backend/tensorflow_backend.py:1044: calling reduce_sum (from tensorflow.python.ops.math_ops) with keep_dims is deprecated and will be removed in a future version.\n",
      "Instructions for updating:\n",
      "keep_dims is deprecated, use keepdims instead\n",
      "WARNING:tensorflow:From /home/watts/anaconda3/envs/ktc/lib/python3.6/site-packages/tensorflow/python/util/deprecation.py:497: calling conv1d (from tensorflow.python.ops.nn_ops) with data_format=NHWC is deprecated and will be removed in a future version.\n",
      "Instructions for updating:\n",
      "`NHWC` for data_format is deprecated, use `NWC` instead\n",
      "WARNING:tensorflow:From /home/watts/anaconda3/envs/ktc/lib/python3.6/site-packages/keras/backend/tensorflow_backend.py:1123: calling reduce_mean (from tensorflow.python.ops.math_ops) with keep_dims is deprecated and will be removed in a future version.\n",
      "Instructions for updating:\n",
      "keep_dims is deprecated, use keepdims instead\n",
      "WARNING:tensorflow:From /home/watts/anaconda3/envs/ktc/lib/python3.6/site-packages/keras/backend/tensorflow_backend.py:1008: calling reduce_max (from tensorflow.python.ops.math_ops) with keep_dims is deprecated and will be removed in a future version.\n",
      "Instructions for updating:\n",
      "keep_dims is deprecated, use keepdims instead\n"
     ]
    }
   ],
   "source": [
    "sequence_input = Input(shape=(maxlen, ))\n",
    "x = Embedding(max_features, embed_size, weights=[embedding_matrix],trainable = False)(sequence_input)\n",
    "x = SpatialDropout1D(0.2)(x)\n",
    "x = Bidirectional(GRU(128, return_sequences=True,dropout=0.1,recurrent_dropout=0.1))(x)\n",
    "x = Conv1D(64, kernel_size = 3, padding = \"valid\", kernel_initializer = \"glorot_uniform\")(x)\n",
    "avg_pool = GlobalAveragePooling1D()(x)\n",
    "max_pool = GlobalMaxPooling1D()(x)\n",
    "x = concatenate([avg_pool, max_pool]) \n",
    "# x = Dense(128, activation='relu')(x)\n",
    "# x = Dropout(0.1)(x)\n",
    "preds = Dense(6, activation=\"sigmoid\")(x)\n",
    "model = Model(sequence_input, preds)\n",
    "model.compile(loss='binary_crossentropy',optimizer=Adam(lr=1e-3),metrics=['accuracy'])\n"
   ]
  },
  {
   "cell_type": "code",
   "execution_count": 10,
   "metadata": {},
   "outputs": [
    {
     "name": "stderr",
     "output_type": "stream",
     "text": [
      "/home/watts/anaconda3/envs/ktc/lib/python3.6/site-packages/sklearn/model_selection/_split.py:2026: FutureWarning: From version 0.21, test_size will always complement train_size unless both are specified.\n",
      "  FutureWarning)\n"
     ]
    }
   ],
   "source": [
    "batch_size = 128\n",
    "epochs = 10\n",
    "X_tra, X_val, y_tra, y_val = train_test_split(x_train, y_train, train_size=0.9, random_state=233)"
   ]
  },
  {
   "cell_type": "code",
   "execution_count": 11,
   "metadata": {},
   "outputs": [],
   "source": [
    "# filepath=\"../input/best-model/best.hdf5\"\n",
    "filepath=\"../cache/1_17_LC_weights_base.best.hdf5\"\n",
    "checkpoint = ModelCheckpoint(filepath, monitor='val_acc', verbose=1, save_best_only=True, mode='max')\n",
    "early = EarlyStopping(monitor=\"val_acc\", mode=\"max\", patience=5)\n",
    "ra_val = RocAucEvaluation(validation_data=(X_val, y_val), interval = 1)\n",
    "callbacks_list = [ra_val,checkpoint, early]"
   ]
  },
  {
   "cell_type": "code",
   "execution_count": 11,
   "metadata": {},
   "outputs": [
    {
     "name": "stdout",
     "output_type": "stream",
     "text": [
      "Train on 143613 samples, validate on 15958 samples\n",
      "Epoch 1/10\n",
      "143488/143613 [============================>.] - ETA: 0s - loss: 0.0567 - acc: 0.9802\n",
      " ROC-AUC - epoch: 1 - score: 0.986986\n",
      "Epoch 00000: val_acc improved from -inf to 0.98213, saving model to ../cache/1_17_LC_weights_base.best.hdf5\n",
      "143613/143613 [==============================] - 1066s - loss: 0.0567 - acc: 0.9803 - val_loss: 0.0467 - val_acc: 0.9821\n",
      "Epoch 2/10\n",
      "143488/143613 [============================>.] - ETA: 0s - loss: 0.0440 - acc: 0.9832\n",
      " ROC-AUC - epoch: 2 - score: 0.988146\n",
      "Epoch 00001: val_acc improved from 0.98213 to 0.98333, saving model to ../cache/1_17_LC_weights_base.best.hdf5\n",
      "143613/143613 [==============================] - 1102s - loss: 0.0440 - acc: 0.9832 - val_loss: 0.0423 - val_acc: 0.9833\n",
      "Epoch 3/10\n",
      "143488/143613 [============================>.] - ETA: 0s - loss: 0.0412 - acc: 0.9841\n",
      " ROC-AUC - epoch: 3 - score: 0.988861\n",
      "Epoch 00002: val_acc did not improve\n",
      "143613/143613 [==============================] - 1074s - loss: 0.0412 - acc: 0.9841 - val_loss: 0.0464 - val_acc: 0.9824\n",
      "Epoch 4/10\n",
      "143488/143613 [============================>.] - ETA: 0s - loss: 0.0391 - acc: 0.9848\n",
      " ROC-AUC - epoch: 4 - score: 0.988386\n",
      "Epoch 00003: val_acc improved from 0.98333 to 0.98403, saving model to ../cache/1_17_LC_weights_base.best.hdf5\n",
      "143613/143613 [==============================] - 1066s - loss: 0.0391 - acc: 0.9848 - val_loss: 0.0415 - val_acc: 0.9840\n",
      "Epoch 5/10\n",
      "143488/143613 [============================>.] - ETA: 0s - loss: 0.0370 - acc: 0.9855\n",
      " ROC-AUC - epoch: 5 - score: 0.988753\n",
      "Epoch 00004: val_acc did not improve\n",
      "143613/143613 [==============================] - 1061s - loss: 0.0370 - acc: 0.9855 - val_loss: 0.0414 - val_acc: 0.9840\n",
      "Epoch 6/10\n",
      "143488/143613 [============================>.] - ETA: 0s - loss: 0.0349 - acc: 0.9862\n",
      " ROC-AUC - epoch: 6 - score: 0.988773\n",
      "Epoch 00005: val_acc did not improve\n",
      "143613/143613 [==============================] - 1060s - loss: 0.0349 - acc: 0.9863 - val_loss: 0.0419 - val_acc: 0.9837\n",
      "Epoch 7/10\n",
      "143488/143613 [============================>.] - ETA: 0s - loss: 0.0329 - acc: 0.9871\n",
      " ROC-AUC - epoch: 7 - score: 0.988190\n",
      "Epoch 00006: val_acc did not improve\n",
      "143613/143613 [==============================] - 1060s - loss: 0.0329 - acc: 0.9871 - val_loss: 0.0434 - val_acc: 0.9836\n",
      "Epoch 8/10\n",
      "143488/143613 [============================>.] - ETA: 0s - loss: 0.0313 - acc: 0.9876\n",
      " ROC-AUC - epoch: 8 - score: 0.988386\n",
      "Epoch 00007: val_acc did not improve\n",
      "143613/143613 [==============================] - 1059s - loss: 0.0313 - acc: 0.9876 - val_loss: 0.0451 - val_acc: 0.9831\n",
      "Epoch 9/10\n",
      "143488/143613 [============================>.] - ETA: 0s - loss: 0.0296 - acc: 0.9883\n",
      " ROC-AUC - epoch: 9 - score: 0.987925\n",
      "Epoch 00008: val_acc did not improve\n",
      "143613/143613 [==============================] - 1063s - loss: 0.0296 - acc: 0.9883 - val_loss: 0.0460 - val_acc: 0.9834\n",
      "Epoch 10/10\n",
      "143488/143613 [============================>.] - ETA: 0s - loss: 0.0277 - acc: 0.9889\n",
      " ROC-AUC - epoch: 10 - score: 0.987929\n",
      "Epoch 00009: val_acc did not improve\n",
      "143613/143613 [==============================] - 820s - loss: 0.0277 - acc: 0.9889 - val_loss: 0.0484 - val_acc: 0.9831\n"
     ]
    },
    {
     "data": {
      "text/plain": [
       "<keras.callbacks.History at 0x7fe535fab9b0>"
      ]
     },
     "execution_count": 11,
     "metadata": {},
     "output_type": "execute_result"
    }
   ],
   "source": [
    "model.fit(X_tra, y_tra, batch_size=batch_size, epochs=epochs, validation_data=(X_val, y_val),\n",
    "          callbacks = callbacks_list,verbose=1)"
   ]
  },
  {
   "cell_type": "code",
   "execution_count": 10,
   "metadata": {},
   "outputs": [
    {
     "name": "stdout",
     "output_type": "stream",
     "text": [
      "WARNING:tensorflow:From /home/watts/anaconda3/envs/ktc/lib/python3.6/site-packages/keras/backend/tensorflow_backend.py:1044: calling reduce_sum (from tensorflow.python.ops.math_ops) with keep_dims is deprecated and will be removed in a future version.\n",
      "Instructions for updating:\n",
      "keep_dims is deprecated, use keepdims instead\n",
      "WARNING:tensorflow:From /home/watts/anaconda3/envs/ktc/lib/python3.6/site-packages/tensorflow/python/util/deprecation.py:497: calling conv1d (from tensorflow.python.ops.nn_ops) with data_format=NHWC is deprecated and will be removed in a future version.\n",
      "Instructions for updating:\n",
      "`NHWC` for data_format is deprecated, use `NWC` instead\n",
      "WARNING:tensorflow:From /home/watts/anaconda3/envs/ktc/lib/python3.6/site-packages/keras/backend/tensorflow_backend.py:1123: calling reduce_mean (from tensorflow.python.ops.math_ops) with keep_dims is deprecated and will be removed in a future version.\n",
      "Instructions for updating:\n",
      "keep_dims is deprecated, use keepdims instead\n",
      "WARNING:tensorflow:From /home/watts/anaconda3/envs/ktc/lib/python3.6/site-packages/keras/backend/tensorflow_backend.py:1008: calling reduce_max (from tensorflow.python.ops.math_ops) with keep_dims is deprecated and will be removed in a future version.\n",
      "Instructions for updating:\n",
      "keep_dims is deprecated, use keepdims instead\n"
     ]
    }
   ],
   "source": [
    "from Attention import *\n",
    "sequence_input = Input(shape=(maxlen, ))\n",
    "x = Embedding(max_features, embed_size, weights=[embedding_matrix],trainable = False)(sequence_input)\n",
    "x = SpatialDropout1D(0.2)(x)\n",
    "x = Bidirectional(GRU(128, return_sequences=True,dropout=0.1,recurrent_dropout=0.1))(x)\n",
    "x = Conv1D(64, kernel_size = 3, padding = \"valid\", kernel_initializer = \"glorot_uniform\")(x)\n",
    "avg_pool = GlobalAveragePooling1D()(x)\n",
    "max_pool = GlobalMaxPooling1D()(x)\n",
    "att = Attention()(x)\n",
    "x = concatenate([avg_pool, max_pool, att]) \n",
    "# x = Dense(128, activation='relu')(x)\n",
    "# x = Dropout(0.1)(x)\n",
    "preds = Dense(6, activation=\"sigmoid\")(x)\n",
    "model = Model(sequence_input, preds)\n",
    "model.compile(loss='binary_crossentropy',optimizer=Adam(lr=1e-3),metrics=['accuracy'])"
   ]
  },
  {
   "cell_type": "code",
   "execution_count": 11,
   "metadata": {},
   "outputs": [
    {
     "name": "stdout",
     "output_type": "stream",
     "text": [
      "Train on 143613 samples, validate on 15958 samples\n",
      "Epoch 1/10\n",
      "143488/143613 [============================>.] - ETA: 0s - loss: 0.0578 - acc: 0.9799\n",
      " ROC-AUC - epoch: 1 - score: 0.986314\n",
      "Epoch 00000: val_acc improved from -inf to 0.98284, saving model to ../cache/1_17_LC_weights_base.best.hdf5\n",
      "143613/143613 [==============================] - 752s - loss: 0.0578 - acc: 0.9799 - val_loss: 0.0447 - val_acc: 0.9828\n",
      "Epoch 2/10\n",
      "143488/143613 [============================>.] - ETA: 0s - loss: 0.0442 - acc: 0.9832\n",
      " ROC-AUC - epoch: 2 - score: 0.988109\n",
      "Epoch 00001: val_acc improved from 0.98284 to 0.98346, saving model to ../cache/1_17_LC_weights_base.best.hdf5\n",
      "143613/143613 [==============================] - 782s - loss: 0.0442 - acc: 0.9832 - val_loss: 0.0428 - val_acc: 0.9835\n",
      "Epoch 3/10\n",
      "143488/143613 [============================>.] - ETA: 0s - loss: 0.0413 - acc: 0.9840\n",
      " ROC-AUC - epoch: 3 - score: 0.988333\n",
      "Epoch 00002: val_acc did not improve\n",
      "143613/143613 [==============================] - 791s - loss: 0.0413 - acc: 0.9840 - val_loss: 0.0433 - val_acc: 0.9834\n",
      "Epoch 4/10\n",
      "143488/143613 [============================>.] - ETA: 0s - loss: 0.0390 - acc: 0.9847\n",
      " ROC-AUC - epoch: 4 - score: 0.988875\n",
      "Epoch 00003: val_acc improved from 0.98346 to 0.98405, saving model to ../cache/1_17_LC_weights_base.best.hdf5\n",
      "143613/143613 [==============================] - 799s - loss: 0.0390 - acc: 0.9847 - val_loss: 0.0416 - val_acc: 0.9841\n",
      "Epoch 5/10\n",
      "143488/143613 [============================>.] - ETA: 0s - loss: 0.0371 - acc: 0.9854\n",
      " ROC-AUC - epoch: 5 - score: 0.989228\n",
      "Epoch 00004: val_acc improved from 0.98405 to 0.98406, saving model to ../cache/1_17_LC_weights_base.best.hdf5\n",
      "143613/143613 [==============================] - 803s - loss: 0.0371 - acc: 0.9854 - val_loss: 0.0411 - val_acc: 0.9841\n",
      "Epoch 6/10\n",
      "143488/143613 [============================>.] - ETA: 0s - loss: 0.0352 - acc: 0.9861\n",
      " ROC-AUC - epoch: 6 - score: 0.989195\n",
      "Epoch 00005: val_acc did not improve\n",
      "143613/143613 [==============================] - 792s - loss: 0.0352 - acc: 0.9860 - val_loss: 0.0414 - val_acc: 0.9837\n",
      "Epoch 7/10\n",
      "143488/143613 [============================>.] - ETA: 0s - loss: 0.0334 - acc: 0.9868\n",
      " ROC-AUC - epoch: 7 - score: 0.988625\n",
      "Epoch 00006: val_acc did not improve\n",
      "143613/143613 [==============================] - 784s - loss: 0.0334 - acc: 0.9868 - val_loss: 0.0426 - val_acc: 0.9838\n",
      "Epoch 8/10\n",
      "143488/143613 [============================>.] - ETA: 0s - loss: 0.0315 - acc: 0.9876\n",
      " ROC-AUC - epoch: 8 - score: 0.988693\n",
      "Epoch 00007: val_acc did not improve\n",
      "143613/143613 [==============================] - 780s - loss: 0.0315 - acc: 0.9876 - val_loss: 0.0441 - val_acc: 0.9837\n",
      "Epoch 9/10\n",
      " 36736/143613 [======>.......................] - ETA: 525s - loss: 0.0292 - acc: 0.9885"
     ]
    },
    {
     "ename": "KeyboardInterrupt",
     "evalue": "",
     "output_type": "error",
     "traceback": [
      "\u001b[0;31m---------------------------------------------------------------------------\u001b[0m",
      "\u001b[0;31mKeyboardInterrupt\u001b[0m                         Traceback (most recent call last)",
      "\u001b[0;32m<ipython-input-11-552e78680a25>\u001b[0m in \u001b[0;36m<module>\u001b[0;34m()\u001b[0m\n\u001b[1;32m      1\u001b[0m model.fit(X_tra, y_tra, batch_size=batch_size, epochs=epochs, validation_data=(X_val, y_val),\n\u001b[0;32m----> 2\u001b[0;31m           callbacks = callbacks_list,verbose=1)\n\u001b[0m",
      "\u001b[0;32m~/anaconda3/envs/ktc/lib/python3.6/site-packages/keras/engine/training.py\u001b[0m in \u001b[0;36mfit\u001b[0;34m(self, x, y, batch_size, epochs, verbose, callbacks, validation_split, validation_data, shuffle, class_weight, sample_weight, initial_epoch, **kwargs)\u001b[0m\n\u001b[1;32m   1483\u001b[0m                               \u001b[0mval_f\u001b[0m\u001b[0;34m=\u001b[0m\u001b[0mval_f\u001b[0m\u001b[0;34m,\u001b[0m \u001b[0mval_ins\u001b[0m\u001b[0;34m=\u001b[0m\u001b[0mval_ins\u001b[0m\u001b[0;34m,\u001b[0m \u001b[0mshuffle\u001b[0m\u001b[0;34m=\u001b[0m\u001b[0mshuffle\u001b[0m\u001b[0;34m,\u001b[0m\u001b[0;34m\u001b[0m\u001b[0m\n\u001b[1;32m   1484\u001b[0m                               \u001b[0mcallback_metrics\u001b[0m\u001b[0;34m=\u001b[0m\u001b[0mcallback_metrics\u001b[0m\u001b[0;34m,\u001b[0m\u001b[0;34m\u001b[0m\u001b[0m\n\u001b[0;32m-> 1485\u001b[0;31m                               initial_epoch=initial_epoch)\n\u001b[0m\u001b[1;32m   1486\u001b[0m \u001b[0;34m\u001b[0m\u001b[0m\n\u001b[1;32m   1487\u001b[0m     \u001b[0;32mdef\u001b[0m \u001b[0mevaluate\u001b[0m\u001b[0;34m(\u001b[0m\u001b[0mself\u001b[0m\u001b[0;34m,\u001b[0m \u001b[0mx\u001b[0m\u001b[0;34m,\u001b[0m \u001b[0my\u001b[0m\u001b[0;34m,\u001b[0m \u001b[0mbatch_size\u001b[0m\u001b[0;34m=\u001b[0m\u001b[0;36m32\u001b[0m\u001b[0;34m,\u001b[0m \u001b[0mverbose\u001b[0m\u001b[0;34m=\u001b[0m\u001b[0;36m1\u001b[0m\u001b[0;34m,\u001b[0m \u001b[0msample_weight\u001b[0m\u001b[0;34m=\u001b[0m\u001b[0;32mNone\u001b[0m\u001b[0;34m)\u001b[0m\u001b[0;34m:\u001b[0m\u001b[0;34m\u001b[0m\u001b[0m\n",
      "\u001b[0;32m~/anaconda3/envs/ktc/lib/python3.6/site-packages/keras/engine/training.py\u001b[0m in \u001b[0;36m_fit_loop\u001b[0;34m(self, f, ins, out_labels, batch_size, epochs, verbose, callbacks, val_f, val_ins, shuffle, callback_metrics, initial_epoch)\u001b[0m\n\u001b[1;32m   1138\u001b[0m                 \u001b[0mbatch_logs\u001b[0m\u001b[0;34m[\u001b[0m\u001b[0;34m'size'\u001b[0m\u001b[0;34m]\u001b[0m \u001b[0;34m=\u001b[0m \u001b[0mlen\u001b[0m\u001b[0;34m(\u001b[0m\u001b[0mbatch_ids\u001b[0m\u001b[0;34m)\u001b[0m\u001b[0;34m\u001b[0m\u001b[0m\n\u001b[1;32m   1139\u001b[0m                 \u001b[0mcallbacks\u001b[0m\u001b[0;34m.\u001b[0m\u001b[0mon_batch_begin\u001b[0m\u001b[0;34m(\u001b[0m\u001b[0mbatch_index\u001b[0m\u001b[0;34m,\u001b[0m \u001b[0mbatch_logs\u001b[0m\u001b[0;34m)\u001b[0m\u001b[0;34m\u001b[0m\u001b[0m\n\u001b[0;32m-> 1140\u001b[0;31m                 \u001b[0mouts\u001b[0m \u001b[0;34m=\u001b[0m \u001b[0mf\u001b[0m\u001b[0;34m(\u001b[0m\u001b[0mins_batch\u001b[0m\u001b[0;34m)\u001b[0m\u001b[0;34m\u001b[0m\u001b[0m\n\u001b[0m\u001b[1;32m   1141\u001b[0m                 \u001b[0;32mif\u001b[0m \u001b[0;32mnot\u001b[0m \u001b[0misinstance\u001b[0m\u001b[0;34m(\u001b[0m\u001b[0mouts\u001b[0m\u001b[0;34m,\u001b[0m \u001b[0mlist\u001b[0m\u001b[0;34m)\u001b[0m\u001b[0;34m:\u001b[0m\u001b[0;34m\u001b[0m\u001b[0m\n\u001b[1;32m   1142\u001b[0m                     \u001b[0mouts\u001b[0m \u001b[0;34m=\u001b[0m \u001b[0;34m[\u001b[0m\u001b[0mouts\u001b[0m\u001b[0;34m]\u001b[0m\u001b[0;34m\u001b[0m\u001b[0m\n",
      "\u001b[0;32m~/anaconda3/envs/ktc/lib/python3.6/site-packages/keras/backend/tensorflow_backend.py\u001b[0m in \u001b[0;36m__call__\u001b[0;34m(self, inputs)\u001b[0m\n\u001b[1;32m   2073\u001b[0m         \u001b[0msession\u001b[0m \u001b[0;34m=\u001b[0m \u001b[0mget_session\u001b[0m\u001b[0;34m(\u001b[0m\u001b[0;34m)\u001b[0m\u001b[0;34m\u001b[0m\u001b[0m\n\u001b[1;32m   2074\u001b[0m         updated = session.run(self.outputs + [self.updates_op],\n\u001b[0;32m-> 2075\u001b[0;31m                               feed_dict=feed_dict)\n\u001b[0m\u001b[1;32m   2076\u001b[0m         \u001b[0;32mreturn\u001b[0m \u001b[0mupdated\u001b[0m\u001b[0;34m[\u001b[0m\u001b[0;34m:\u001b[0m\u001b[0mlen\u001b[0m\u001b[0;34m(\u001b[0m\u001b[0mself\u001b[0m\u001b[0;34m.\u001b[0m\u001b[0moutputs\u001b[0m\u001b[0;34m)\u001b[0m\u001b[0;34m]\u001b[0m\u001b[0;34m\u001b[0m\u001b[0m\n\u001b[1;32m   2077\u001b[0m \u001b[0;34m\u001b[0m\u001b[0m\n",
      "\u001b[0;32m~/anaconda3/envs/ktc/lib/python3.6/site-packages/tensorflow/python/client/session.py\u001b[0m in \u001b[0;36mrun\u001b[0;34m(self, fetches, feed_dict, options, run_metadata)\u001b[0m\n\u001b[1;32m    903\u001b[0m     \u001b[0;32mtry\u001b[0m\u001b[0;34m:\u001b[0m\u001b[0;34m\u001b[0m\u001b[0m\n\u001b[1;32m    904\u001b[0m       result = self._run(None, fetches, feed_dict, options_ptr,\n\u001b[0;32m--> 905\u001b[0;31m                          run_metadata_ptr)\n\u001b[0m\u001b[1;32m    906\u001b[0m       \u001b[0;32mif\u001b[0m \u001b[0mrun_metadata\u001b[0m\u001b[0;34m:\u001b[0m\u001b[0;34m\u001b[0m\u001b[0m\n\u001b[1;32m    907\u001b[0m         \u001b[0mproto_data\u001b[0m \u001b[0;34m=\u001b[0m \u001b[0mtf_session\u001b[0m\u001b[0;34m.\u001b[0m\u001b[0mTF_GetBuffer\u001b[0m\u001b[0;34m(\u001b[0m\u001b[0mrun_metadata_ptr\u001b[0m\u001b[0;34m)\u001b[0m\u001b[0;34m\u001b[0m\u001b[0m\n",
      "\u001b[0;32m~/anaconda3/envs/ktc/lib/python3.6/site-packages/tensorflow/python/client/session.py\u001b[0m in \u001b[0;36m_run\u001b[0;34m(self, handle, fetches, feed_dict, options, run_metadata)\u001b[0m\n\u001b[1;32m   1135\u001b[0m     \u001b[0;32mif\u001b[0m \u001b[0mfinal_fetches\u001b[0m \u001b[0;32mor\u001b[0m \u001b[0mfinal_targets\u001b[0m \u001b[0;32mor\u001b[0m \u001b[0;34m(\u001b[0m\u001b[0mhandle\u001b[0m \u001b[0;32mand\u001b[0m \u001b[0mfeed_dict_tensor\u001b[0m\u001b[0;34m)\u001b[0m\u001b[0;34m:\u001b[0m\u001b[0;34m\u001b[0m\u001b[0m\n\u001b[1;32m   1136\u001b[0m       results = self._do_run(handle, final_targets, final_fetches,\n\u001b[0;32m-> 1137\u001b[0;31m                              feed_dict_tensor, options, run_metadata)\n\u001b[0m\u001b[1;32m   1138\u001b[0m     \u001b[0;32melse\u001b[0m\u001b[0;34m:\u001b[0m\u001b[0;34m\u001b[0m\u001b[0m\n\u001b[1;32m   1139\u001b[0m       \u001b[0mresults\u001b[0m \u001b[0;34m=\u001b[0m \u001b[0;34m[\u001b[0m\u001b[0;34m]\u001b[0m\u001b[0;34m\u001b[0m\u001b[0m\n",
      "\u001b[0;32m~/anaconda3/envs/ktc/lib/python3.6/site-packages/tensorflow/python/client/session.py\u001b[0m in \u001b[0;36m_do_run\u001b[0;34m(self, handle, target_list, fetch_list, feed_dict, options, run_metadata)\u001b[0m\n\u001b[1;32m   1353\u001b[0m     \u001b[0;32mif\u001b[0m \u001b[0mhandle\u001b[0m \u001b[0;32mis\u001b[0m \u001b[0;32mNone\u001b[0m\u001b[0;34m:\u001b[0m\u001b[0;34m\u001b[0m\u001b[0m\n\u001b[1;32m   1354\u001b[0m       return self._do_call(_run_fn, self._session, feeds, fetches, targets,\n\u001b[0;32m-> 1355\u001b[0;31m                            options, run_metadata)\n\u001b[0m\u001b[1;32m   1356\u001b[0m     \u001b[0;32melse\u001b[0m\u001b[0;34m:\u001b[0m\u001b[0;34m\u001b[0m\u001b[0m\n\u001b[1;32m   1357\u001b[0m       \u001b[0;32mreturn\u001b[0m \u001b[0mself\u001b[0m\u001b[0;34m.\u001b[0m\u001b[0m_do_call\u001b[0m\u001b[0;34m(\u001b[0m\u001b[0m_prun_fn\u001b[0m\u001b[0;34m,\u001b[0m \u001b[0mself\u001b[0m\u001b[0;34m.\u001b[0m\u001b[0m_session\u001b[0m\u001b[0;34m,\u001b[0m \u001b[0mhandle\u001b[0m\u001b[0;34m,\u001b[0m \u001b[0mfeeds\u001b[0m\u001b[0;34m,\u001b[0m \u001b[0mfetches\u001b[0m\u001b[0;34m)\u001b[0m\u001b[0;34m\u001b[0m\u001b[0m\n",
      "\u001b[0;32m~/anaconda3/envs/ktc/lib/python3.6/site-packages/tensorflow/python/client/session.py\u001b[0m in \u001b[0;36m_do_call\u001b[0;34m(self, fn, *args)\u001b[0m\n\u001b[1;32m   1359\u001b[0m   \u001b[0;32mdef\u001b[0m \u001b[0m_do_call\u001b[0m\u001b[0;34m(\u001b[0m\u001b[0mself\u001b[0m\u001b[0;34m,\u001b[0m \u001b[0mfn\u001b[0m\u001b[0;34m,\u001b[0m \u001b[0;34m*\u001b[0m\u001b[0margs\u001b[0m\u001b[0;34m)\u001b[0m\u001b[0;34m:\u001b[0m\u001b[0;34m\u001b[0m\u001b[0m\n\u001b[1;32m   1360\u001b[0m     \u001b[0;32mtry\u001b[0m\u001b[0;34m:\u001b[0m\u001b[0;34m\u001b[0m\u001b[0m\n\u001b[0;32m-> 1361\u001b[0;31m       \u001b[0;32mreturn\u001b[0m \u001b[0mfn\u001b[0m\u001b[0;34m(\u001b[0m\u001b[0;34m*\u001b[0m\u001b[0margs\u001b[0m\u001b[0;34m)\u001b[0m\u001b[0;34m\u001b[0m\u001b[0m\n\u001b[0m\u001b[1;32m   1362\u001b[0m     \u001b[0;32mexcept\u001b[0m \u001b[0merrors\u001b[0m\u001b[0;34m.\u001b[0m\u001b[0mOpError\u001b[0m \u001b[0;32mas\u001b[0m \u001b[0me\u001b[0m\u001b[0;34m:\u001b[0m\u001b[0;34m\u001b[0m\u001b[0m\n\u001b[1;32m   1363\u001b[0m       \u001b[0mmessage\u001b[0m \u001b[0;34m=\u001b[0m \u001b[0mcompat\u001b[0m\u001b[0;34m.\u001b[0m\u001b[0mas_text\u001b[0m\u001b[0;34m(\u001b[0m\u001b[0me\u001b[0m\u001b[0;34m.\u001b[0m\u001b[0mmessage\u001b[0m\u001b[0;34m)\u001b[0m\u001b[0;34m\u001b[0m\u001b[0m\n",
      "\u001b[0;32m~/anaconda3/envs/ktc/lib/python3.6/site-packages/tensorflow/python/client/session.py\u001b[0m in \u001b[0;36m_run_fn\u001b[0;34m(session, feed_dict, fetch_list, target_list, options, run_metadata)\u001b[0m\n\u001b[1;32m   1338\u001b[0m         \u001b[0;32melse\u001b[0m\u001b[0;34m:\u001b[0m\u001b[0;34m\u001b[0m\u001b[0m\n\u001b[1;32m   1339\u001b[0m           return tf_session.TF_Run(session, options, feed_dict, fetch_list,\n\u001b[0;32m-> 1340\u001b[0;31m                                    target_list, status, run_metadata)\n\u001b[0m\u001b[1;32m   1341\u001b[0m \u001b[0;34m\u001b[0m\u001b[0m\n\u001b[1;32m   1342\u001b[0m     \u001b[0;32mdef\u001b[0m \u001b[0m_prun_fn\u001b[0m\u001b[0;34m(\u001b[0m\u001b[0msession\u001b[0m\u001b[0;34m,\u001b[0m \u001b[0mhandle\u001b[0m\u001b[0;34m,\u001b[0m \u001b[0mfeed_dict\u001b[0m\u001b[0;34m,\u001b[0m \u001b[0mfetch_list\u001b[0m\u001b[0;34m)\u001b[0m\u001b[0;34m:\u001b[0m\u001b[0;34m\u001b[0m\u001b[0m\n",
      "\u001b[0;31mKeyboardInterrupt\u001b[0m: "
     ]
    }
   ],
   "source": [
    "model.fit(X_tra, y_tra, batch_size=batch_size, epochs=epochs, validation_data=(X_val, y_val),\n",
    "          callbacks = callbacks_list,verbose=1)"
   ]
  },
  {
   "cell_type": "code",
   "execution_count": 8,
   "metadata": {},
   "outputs": [
    {
     "name": "stdout",
     "output_type": "stream",
     "text": [
      "WARNING:tensorflow:From /home/watts/anaconda3/envs/ktc/lib/python3.6/site-packages/keras/backend/tensorflow_backend.py:1044: calling reduce_sum (from tensorflow.python.ops.math_ops) with keep_dims is deprecated and will be removed in a future version.\n",
      "Instructions for updating:\n",
      "keep_dims is deprecated, use keepdims instead\n",
      "WARNING:tensorflow:From /home/watts/anaconda3/envs/ktc/lib/python3.6/site-packages/tensorflow/python/util/deprecation.py:497: calling conv1d (from tensorflow.python.ops.nn_ops) with data_format=NHWC is deprecated and will be removed in a future version.\n",
      "Instructions for updating:\n",
      "`NHWC` for data_format is deprecated, use `NWC` instead\n",
      "WARNING:tensorflow:From /home/watts/anaconda3/envs/ktc/lib/python3.6/site-packages/keras/backend/tensorflow_backend.py:1123: calling reduce_mean (from tensorflow.python.ops.math_ops) with keep_dims is deprecated and will be removed in a future version.\n",
      "Instructions for updating:\n",
      "keep_dims is deprecated, use keepdims instead\n",
      "WARNING:tensorflow:From /home/watts/anaconda3/envs/ktc/lib/python3.6/site-packages/keras/backend/tensorflow_backend.py:1008: calling reduce_max (from tensorflow.python.ops.math_ops) with keep_dims is deprecated and will be removed in a future version.\n",
      "Instructions for updating:\n",
      "keep_dims is deprecated, use keepdims instead\n"
     ]
    }
   ],
   "source": [
    "\n",
    "sequence_input = Input(shape=(maxlen, ))\n",
    "x = Embedding(max_features, embed_size, weights=[embedding_matrix],trainable = False)(sequence_input)\n",
    "x = SpatialDropout1D(0.2)(x)\n",
    "x = Bidirectional(GRU(128, return_sequences=True,dropout=0.1,recurrent_dropout=0.1))(x)\n",
    "x = Conv1D(64, kernel_size = 3, padding = \"valid\", kernel_initializer = \"glorot_uniform\")(x)\n",
    "avg_pool = GlobalAveragePooling1D()(x)\n",
    "max_pool = GlobalMaxPooling1D()(x)\n",
    "att1 = Attention()(x)\n",
    "att2 = AttentionWithContext()(x)\n",
    "x = concatenate([avg_pool, max_pool, att1, att2]) \n",
    "# x = Dense(128, activation='relu')(x)\n",
    "# x = Dropout(0.1)(x)\n",
    "preds = Dense(6, activation=\"sigmoid\")(x)\n",
    "model = Model(sequence_input, preds)\n",
    "model.compile(loss='binary_crossentropy',optimizer=Adam(lr=1e-3),metrics=['accuracy'])"
   ]
  },
  {
   "cell_type": "code",
   "execution_count": 12,
   "metadata": {},
   "outputs": [
    {
     "name": "stdout",
     "output_type": "stream",
     "text": [
      "Train on 143613 samples, validate on 15958 samples\n",
      "Epoch 1/4\n",
      "143488/143613 [============================>.] - ETA: 0s - loss: 0.0564 - acc: 0.9803\n",
      " ROC-AUC - epoch: 1 - score: 0.986489\n",
      "Epoch 00000: val_acc improved from -inf to 0.98319, saving model to ../cache/1_17_LC_weights_base.best.hdf5\n",
      "143613/143613 [==============================] - 783s - loss: 0.0564 - acc: 0.9803 - val_loss: 0.0440 - val_acc: 0.9832\n",
      "Epoch 2/4\n",
      "143488/143613 [============================>.] - ETA: 0s - loss: 0.0440 - acc: 0.9832\n",
      " ROC-AUC - epoch: 2 - score: 0.988721\n",
      "Epoch 00001: val_acc did not improve\n",
      "143613/143613 [==============================] - 810s - loss: 0.0440 - acc: 0.9832 - val_loss: 0.0430 - val_acc: 0.9829\n",
      "Epoch 3/4\n",
      "143488/143613 [============================>.] - ETA: 0s - loss: 0.0410 - acc: 0.9841\n",
      " ROC-AUC - epoch: 3 - score: 0.989283\n",
      "Epoch 00002: val_acc improved from 0.98319 to 0.98345, saving model to ../cache/1_17_LC_weights_base.best.hdf5\n",
      "143613/143613 [==============================] - 812s - loss: 0.0410 - acc: 0.9841 - val_loss: 0.0416 - val_acc: 0.9834\n",
      "Epoch 4/4\n",
      "143488/143613 [============================>.] - ETA: 0s - loss: 0.0392 - acc: 0.9847\n",
      " ROC-AUC - epoch: 4 - score: 0.989312\n",
      "Epoch 00003: val_acc improved from 0.98345 to 0.98419, saving model to ../cache/1_17_LC_weights_base.best.hdf5\n",
      "143613/143613 [==============================] - 810s - loss: 0.0392 - acc: 0.9847 - val_loss: 0.0407 - val_acc: 0.9842\n"
     ]
    },
    {
     "data": {
      "text/plain": [
       "<keras.callbacks.History at 0x7f31754645f8>"
      ]
     },
     "execution_count": 12,
     "metadata": {},
     "output_type": "execute_result"
    }
   ],
   "source": [
    "model.fit(X_tra, y_tra, batch_size=batch_size, epochs=4, validation_data=(X_val, y_val),\n",
    "          callbacks = callbacks_list,verbose=1)"
   ]
  },
  {
   "cell_type": "code",
   "execution_count": 13,
   "metadata": {},
   "outputs": [
    {
     "name": "stdout",
     "output_type": "stream",
     "text": [
      "Predicting....\n",
      "153164/153164 [==============================] - 309s   \n"
     ]
    }
   ],
   "source": [
    "\n",
    "#Loading model weights\n",
    "model.load_weights(filepath)\n",
    "print('Predicting....')\n",
    "y_pred = model.predict(x_test,batch_size=1024,verbose=1)"
   ]
  },
  {
   "cell_type": "code",
   "execution_count": 20,
   "metadata": {},
   "outputs": [
    {
     "data": {
      "text/plain": [
       "(153164, 6)"
      ]
     },
     "execution_count": 20,
     "metadata": {},
     "output_type": "execute_result"
    }
   ],
   "source": [
    "y_pred.shape"
   ]
  },
  {
   "cell_type": "code",
   "execution_count": 14,
   "metadata": {},
   "outputs": [],
   "source": [
    "df_sub = pd.read_csv('../submissions/submission_0.986.csv')"
   ]
  },
  {
   "cell_type": "code",
   "execution_count": 15,
   "metadata": {},
   "outputs": [
    {
     "data": {
      "text/html": [
       "<div>\n",
       "<style scoped>\n",
       "    .dataframe tbody tr th:only-of-type {\n",
       "        vertical-align: middle;\n",
       "    }\n",
       "\n",
       "    .dataframe tbody tr th {\n",
       "        vertical-align: top;\n",
       "    }\n",
       "\n",
       "    .dataframe thead th {\n",
       "        text-align: right;\n",
       "    }\n",
       "</style>\n",
       "<table border=\"1\" class=\"dataframe\">\n",
       "  <thead>\n",
       "    <tr style=\"text-align: right;\">\n",
       "      <th></th>\n",
       "      <th>id</th>\n",
       "      <th>toxic</th>\n",
       "      <th>severe_toxic</th>\n",
       "      <th>obscene</th>\n",
       "      <th>threat</th>\n",
       "      <th>insult</th>\n",
       "      <th>identity_hate</th>\n",
       "    </tr>\n",
       "  </thead>\n",
       "  <tbody>\n",
       "    <tr>\n",
       "      <th>0</th>\n",
       "      <td>00001cee341fdb12</td>\n",
       "      <td>0.971201</td>\n",
       "      <td>0.316950</td>\n",
       "      <td>0.947543</td>\n",
       "      <td>0.112325</td>\n",
       "      <td>0.895078</td>\n",
       "      <td>0.387622</td>\n",
       "    </tr>\n",
       "    <tr>\n",
       "      <th>1</th>\n",
       "      <td>0000247867823ef7</td>\n",
       "      <td>0.024167</td>\n",
       "      <td>0.023195</td>\n",
       "      <td>0.023079</td>\n",
       "      <td>0.022111</td>\n",
       "      <td>0.023916</td>\n",
       "      <td>0.023222</td>\n",
       "    </tr>\n",
       "    <tr>\n",
       "      <th>2</th>\n",
       "      <td>00013b17ad220c46</td>\n",
       "      <td>0.028507</td>\n",
       "      <td>0.023676</td>\n",
       "      <td>0.026225</td>\n",
       "      <td>0.022412</td>\n",
       "      <td>0.024312</td>\n",
       "      <td>0.023133</td>\n",
       "    </tr>\n",
       "    <tr>\n",
       "      <th>3</th>\n",
       "      <td>00017563c3f7919a</td>\n",
       "      <td>0.022757</td>\n",
       "      <td>0.022425</td>\n",
       "      <td>0.022316</td>\n",
       "      <td>0.022343</td>\n",
       "      <td>0.022613</td>\n",
       "      <td>0.022091</td>\n",
       "    </tr>\n",
       "    <tr>\n",
       "      <th>4</th>\n",
       "      <td>00017695ad8997eb</td>\n",
       "      <td>0.029917</td>\n",
       "      <td>0.022518</td>\n",
       "      <td>0.024325</td>\n",
       "      <td>0.022156</td>\n",
       "      <td>0.024730</td>\n",
       "      <td>0.022612</td>\n",
       "    </tr>\n",
       "  </tbody>\n",
       "</table>\n",
       "</div>"
      ],
      "text/plain": [
       "                 id     toxic  severe_toxic   obscene    threat    insult  \\\n",
       "0  00001cee341fdb12  0.971201      0.316950  0.947543  0.112325  0.895078   \n",
       "1  0000247867823ef7  0.024167      0.023195  0.023079  0.022111  0.023916   \n",
       "2  00013b17ad220c46  0.028507      0.023676  0.026225  0.022412  0.024312   \n",
       "3  00017563c3f7919a  0.022757      0.022425  0.022316  0.022343  0.022613   \n",
       "4  00017695ad8997eb  0.029917      0.022518  0.024325  0.022156  0.024730   \n",
       "\n",
       "   identity_hate  \n",
       "0       0.387622  \n",
       "1       0.023222  \n",
       "2       0.023133  \n",
       "3       0.022091  \n",
       "4       0.022612  "
      ]
     },
     "execution_count": 15,
     "metadata": {},
     "output_type": "execute_result"
    }
   ],
   "source": [
    "df_sub.head()"
   ]
  },
  {
   "cell_type": "code",
   "execution_count": 17,
   "metadata": {},
   "outputs": [],
   "source": [
    "lab_pseudo = df_sub[[\"toxic\", \"severe_toxic\", \"obscene\", \"threat\", \"insult\", \"identity_hate\"]].values"
   ]
  },
  {
   "cell_type": "code",
   "execution_count": 18,
   "metadata": {},
   "outputs": [],
   "source": [
    "comb_pseudo = np.concatenate([y_tra, lab_pseudo])"
   ]
  },
  {
   "cell_type": "code",
   "execution_count": 19,
   "metadata": {},
   "outputs": [],
   "source": [
    "comb_feat = np.concatenate([X_tra, x_test])"
   ]
  },
  {
   "cell_type": "code",
   "execution_count": 21,
   "metadata": {},
   "outputs": [
    {
     "name": "stdout",
     "output_type": "stream",
     "text": [
      "Train on 296777 samples, validate on 15958 samples\n",
      "Epoch 1/10\n",
      "296704/296777 [============================>.] - ETA: 0s - loss: 0.1225 - acc: 0.4769\n",
      " ROC-AUC - epoch: 1 - score: 0.987805\n",
      "Epoch 00000: val_acc improved from 0.98419 to 0.98430, saving model to ../cache/1_17_LC_weights_base.best.hdf5\n",
      "296777/296777 [==============================] - 1558s - loss: 0.1225 - acc: 0.4769 - val_loss: 0.0495 - val_acc: 0.9843\n",
      "Epoch 2/10\n",
      "296704/296777 [============================>.] - ETA: 0s - loss: 0.1211 - acc: 0.4770\n",
      " ROC-AUC - epoch: 2 - score: 0.988217\n",
      "Epoch 00001: val_acc improved from 0.98430 to 0.98482, saving model to ../cache/1_17_LC_weights_base.best.hdf5\n",
      "296777/296777 [==============================] - 1608s - loss: 0.1211 - acc: 0.4770 - val_loss: 0.0471 - val_acc: 0.9848\n",
      "Epoch 3/10\n",
      "296704/296777 [============================>.] - ETA: 0s - loss: 0.1204 - acc: 0.4772\n",
      " ROC-AUC - epoch: 3 - score: 0.988472\n",
      "Epoch 00002: val_acc did not improve\n",
      "296777/296777 [==============================] - 1611s - loss: 0.1204 - acc: 0.4772 - val_loss: 0.0451 - val_acc: 0.9846\n",
      "Epoch 4/10\n",
      "296704/296777 [============================>.] - ETA: 0s - loss: 0.1199 - acc: 0.4774\n",
      " ROC-AUC - epoch: 4 - score: 0.986954\n",
      "Epoch 00003: val_acc did not improve\n",
      "296777/296777 [==============================] - 1606s - loss: 0.1199 - acc: 0.4774 - val_loss: 0.0468 - val_acc: 0.9846\n",
      "Epoch 5/10\n",
      "296704/296777 [============================>.] - ETA: 0s - loss: 0.1193 - acc: 0.4776\n",
      " ROC-AUC - epoch: 5 - score: 0.987136\n",
      "Epoch 00004: val_acc did not improve\n",
      "296777/296777 [==============================] - 1614s - loss: 0.1193 - acc: 0.4776 - val_loss: 0.0474 - val_acc: 0.9845\n",
      "Epoch 6/10\n",
      "296704/296777 [============================>.] - ETA: 0s - loss: 0.1190 - acc: 0.4778\n",
      " ROC-AUC - epoch: 6 - score: 0.987571\n",
      "Epoch 00005: val_acc did not improve\n",
      "296777/296777 [==============================] - 1595s - loss: 0.1190 - acc: 0.4778 - val_loss: 0.0459 - val_acc: 0.9845\n",
      "Epoch 7/10\n",
      "296704/296777 [============================>.] - ETA: 0s - loss: 0.1186 - acc: 0.4779\n",
      " ROC-AUC - epoch: 7 - score: 0.987549\n",
      "Epoch 00006: val_acc did not improve\n",
      "296777/296777 [==============================] - 1606s - loss: 0.1186 - acc: 0.4780 - val_loss: 0.0469 - val_acc: 0.9845\n",
      "Epoch 8/10\n",
      "296704/296777 [============================>.] - ETA: 0s - loss: 0.1183 - acc: 0.4781\n",
      " ROC-AUC - epoch: 8 - score: 0.988832\n",
      "Epoch 00007: val_acc improved from 0.98482 to 0.98496, saving model to ../cache/1_17_LC_weights_base.best.hdf5\n",
      "296777/296777 [==============================] - 1580s - loss: 0.1183 - acc: 0.4781 - val_loss: 0.0470 - val_acc: 0.9850\n",
      "Epoch 9/10\n",
      "296704/296777 [============================>.] - ETA: 0s - loss: 0.1181 - acc: 0.4782\n",
      " ROC-AUC - epoch: 9 - score: 0.986398\n",
      "Epoch 00008: val_acc did not improve\n",
      "296777/296777 [==============================] - 1554s - loss: 0.1181 - acc: 0.4782 - val_loss: 0.0476 - val_acc: 0.9847\n",
      "Epoch 10/10\n",
      "296704/296777 [============================>.] - ETA: 0s - loss: 0.1179 - acc: 0.4783\n",
      " ROC-AUC - epoch: 10 - score: 0.986897\n",
      "Epoch 00009: val_acc did not improve\n",
      "296777/296777 [==============================] - 1547s - loss: 0.1179 - acc: 0.4783 - val_loss: 0.0470 - val_acc: 0.9846\n"
     ]
    },
    {
     "data": {
      "text/plain": [
       "<keras.callbacks.History at 0x7f30f8659588>"
      ]
     },
     "execution_count": 21,
     "metadata": {},
     "output_type": "execute_result"
    }
   ],
   "source": [
    "model.fit(comb_feat, comb_pseudo, batch_size=batch_size, epochs=10, validation_data=(X_val, y_val),\n",
    "          callbacks = callbacks_list,verbose=1)"
   ]
  },
  {
   "cell_type": "code",
   "execution_count": 22,
   "metadata": {},
   "outputs": [
    {
     "name": "stdout",
     "output_type": "stream",
     "text": [
      "Predicting....\n",
      "153164/153164 [==============================] - 301s   \n"
     ]
    }
   ],
   "source": [
    "#Loading model weights\n",
    "model.load_weights(filepath)\n",
    "print('Predicting....')\n",
    "y_pred1 = model.predict(x_test,batch_size=1024,verbose=1)"
   ]
  },
  {
   "cell_type": "code",
   "execution_count": 23,
   "metadata": {},
   "outputs": [
    {
     "data": {
      "text/plain": [
       "array([[0.9895253 , 0.2886152 , 0.9835381 , 0.1704133 , 0.9536547 ,\n",
       "        0.51884526],\n",
       "       [0.01347826, 0.01623414, 0.01314509, 0.01344353, 0.01535578,\n",
       "        0.01389873],\n",
       "       [0.01918216, 0.01955657, 0.02060369, 0.01874701, 0.01825291,\n",
       "        0.01813327],\n",
       "       ...,\n",
       "       [0.01332473, 0.0166356 , 0.01674842, 0.01393711, 0.01584494,\n",
       "        0.01284019],\n",
       "       [0.0194856 , 0.01672496, 0.01828372, 0.01282756, 0.01627895,\n",
       "        0.01966052],\n",
       "       [0.93357766, 0.03650426, 0.75407887, 0.0222304 , 0.5072394 ,\n",
       "        0.02168871]], dtype=float32)"
      ]
     },
     "execution_count": 23,
     "metadata": {},
     "output_type": "execute_result"
    }
   ],
   "source": [
    "y_pred1"
   ]
  },
  {
   "cell_type": "code",
   "execution_count": 26,
   "metadata": {},
   "outputs": [
    {
     "data": {
      "text/plain": [
       "(153164, 6)"
      ]
     },
     "execution_count": 26,
     "metadata": {},
     "output_type": "execute_result"
    }
   ],
   "source": [
    "y_pred1.shape"
   ]
  },
  {
   "cell_type": "code",
   "execution_count": 24,
   "metadata": {},
   "outputs": [],
   "source": [
    "sub = pd.DataFrame()\n",
    "sub['id'] = df_sub['id'].values"
   ]
  },
  {
   "cell_type": "code",
   "execution_count": 27,
   "metadata": {},
   "outputs": [],
   "source": [
    "sub[\"toxic\"] = y_pred1[:,0]\n",
    "sub[\"severe_toxic\"] = y_pred1[:,1]\n",
    "sub[\"obscene\"] = y_pred1[:,2]\n",
    "sub[\"threat\"] = y_pred1[:,3]\n",
    "sub[\"insult\"] = y_pred1[:,4]\n",
    "sub[\"identity_hate\"] = y_pred1[:,5]"
   ]
  },
  {
   "cell_type": "code",
   "execution_count": null,
   "metadata": {},
   "outputs": [],
   "source": []
  }
 ],
 "metadata": {
  "kernelspec": {
   "display_name": "ktc",
   "language": "python",
   "name": "ktc"
  }
 },
 "nbformat": 4,
 "nbformat_minor": 2
}
