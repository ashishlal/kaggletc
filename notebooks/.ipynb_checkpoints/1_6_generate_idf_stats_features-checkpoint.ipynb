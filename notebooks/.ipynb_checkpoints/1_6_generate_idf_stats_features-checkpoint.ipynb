{
 "cells": [
  {
   "cell_type": "code",
   "execution_count": 2,
   "metadata": {},
   "outputs": [
    {
     "name": "stdout",
     "output_type": "stream",
     "text": [
      "Generate question idf stats features\n"
     ]
    }
   ],
   "source": [
    "#############################################################################################################\n",
    "# Created by qqgeogor\n",
    "# https://www.kaggle.com/qqgeogor\n",
    "#############################################################################################################\n",
    "\n",
    "from datetime import datetime\n",
    "from csv import DictReader\n",
    "from math import exp, log, sqrt\n",
    "from random import random,shuffle\n",
    "import pickle\n",
    "import sys\n",
    "import string\n",
    "\n",
    "\n",
    "path = '../data/'\n",
    "cache = '../cache/'\n",
    "\n",
    "string.punctuation.__add__('!!')\n",
    "string.punctuation.__add__('(')\n",
    "string.punctuation.__add__(')')\n",
    "string.punctuation.__add__('?')\n",
    "string.punctuation.__add__('.')\n",
    "string.punctuation.__add__(',')\n",
    "\n",
    "\n",
    "def remove_punctuation(x):\n",
    "    new_line = [ w for w in list(x) if w not in string.punctuation]\n",
    "    new_line = ''.join(new_line)\n",
    "    return new_line\n",
    "\n",
    "print(\"Generate question idf stats features\")\n",
    "idf_dict = pickle.load(open(cache+'idf_dict.pkl','rb'))\n",
    "\n",
    "def mean(x):\n",
    "    return sum(x)/float(len(x))\n",
    "\n",
    "def median(x):\n",
    "    len_2 = len(x)/2\n",
    "    return x[int(len_2)]\n"
   ]
  },
  {
   "cell_type": "code",
   "execution_count": 4,
   "metadata": {},
   "outputs": [],
   "source": [
    "def std(x):\n",
    "    mean_x = mean(x)\n",
    "    s = 0.0\n",
    "    for xx in x:\n",
    "        s+=(xx-mean_x)**2\n",
    "    s/=len(x)\n",
    "    s = sqrt(s)\n",
    "    return s\n",
    "\n",
    "\n",
    "def create_idf_stats_features(path,idf_dict,out):\n",
    "    K_dict = dict()\n",
    "    print(path)\n",
    "    c = 0\n",
    "    start = datetime.now()\n",
    "    sentences = []\n",
    "    with open(out, 'w') as outfile:\n",
    "        outfile.write('min_ct_idfs,max_ct_idfs,mean_ct_idfs,median_ct_idfs,std_ct_idfs\\n')\n",
    "        for t, row in enumerate(DictReader(open(path), delimiter=',')):\n",
    "            if c%100000==0:\n",
    "                print('finished',c)\n",
    "            q1 = remove_punctuation(str(row['comment_text'])).lower()\n",
    "            \n",
    "\n",
    "            q1_idfs = [idf_dict.get(key,idf_dict['default_idf']) for key in q1.split(\" \")]\n",
    "            \n",
    "\n",
    "            min_q1_idfs = min(q1_idfs)\n",
    "            max_q1_idfs = max(q1_idfs)\n",
    "            mean_q1_idfs = mean(q1_idfs)\n",
    "            median_q1_idfs = median(q1_idfs)\n",
    "            std_q1_idfs = std(q1_idfs)\n",
    "\n",
    "           \n",
    "\n",
    "            outfile.write('%s,%s,%s,%s,%s\\n' % (\n",
    "                min_q1_idfs,\n",
    "                max_q1_idfs,\n",
    "                mean_q1_idfs,\n",
    "                median_q1_idfs,\n",
    "                std_q1_idfs\n",
    "                \n",
    "                ))\n",
    "            c+=1\n",
    "        end = datetime.now()\n",
    "        print('times:',end-start)\n",
    "\n"
   ]
  },
  {
   "cell_type": "code",
   "execution_count": 5,
   "metadata": {},
   "outputs": [
    {
     "name": "stdout",
     "output_type": "stream",
     "text": [
      "../data/train.csv\n",
      "finished 0\n"
     ]
    },
    {
     "ename": "TypeError",
     "evalue": "list indices must be integers or slices, not float",
     "output_type": "error",
     "traceback": [
      "\u001b[0;31m---------------------------------------------------------------------------\u001b[0m",
      "\u001b[0;31mTypeError\u001b[0m                                 Traceback (most recent call last)",
      "\u001b[0;32m<ipython-input-5-74d2bf23defb>\u001b[0m in \u001b[0;36m<module>\u001b[0;34m()\u001b[0m\n\u001b[0;32m----> 1\u001b[0;31m \u001b[0mcreate_idf_stats_features\u001b[0m\u001b[0;34m(\u001b[0m\u001b[0mpath\u001b[0m\u001b[0;34m+\u001b[0m\u001b[0;34m'train.csv'\u001b[0m\u001b[0;34m,\u001b[0m\u001b[0midf_dict\u001b[0m\u001b[0;34m,\u001b[0m\u001b[0mcache\u001b[0m\u001b[0;34m+\u001b[0m\u001b[0;34m'train_idf_stats_features.csv'\u001b[0m\u001b[0;34m)\u001b[0m\u001b[0;34m\u001b[0m\u001b[0m\n\u001b[0m\u001b[1;32m      2\u001b[0m \u001b[0mcreate_idf_stats_features\u001b[0m\u001b[0;34m(\u001b[0m\u001b[0mpath\u001b[0m\u001b[0;34m+\u001b[0m\u001b[0;34m'test.csv'\u001b[0m\u001b[0;34m,\u001b[0m\u001b[0midf_dict\u001b[0m\u001b[0;34m,\u001b[0m\u001b[0mcache\u001b[0m\u001b[0;34m+\u001b[0m\u001b[0;34m'test_idf_stats_features.csv'\u001b[0m\u001b[0;34m)\u001b[0m\u001b[0;34m\u001b[0m\u001b[0m\n\u001b[1;32m      3\u001b[0m \u001b[0;34m\u001b[0m\u001b[0m\n\u001b[1;32m      4\u001b[0m \u001b[0mprint\u001b[0m\u001b[0;34m(\u001b[0m\u001b[0;34m\"End\"\u001b[0m\u001b[0;34m)\u001b[0m\u001b[0;34m\u001b[0m\u001b[0m\n",
      "\u001b[0;32m<ipython-input-4-01eaceb894e6>\u001b[0m in \u001b[0;36mcreate_idf_stats_features\u001b[0;34m(path, idf_dict, out)\u001b[0m\n\u001b[1;32m     29\u001b[0m             \u001b[0mmax_q1_idfs\u001b[0m \u001b[0;34m=\u001b[0m \u001b[0mmax\u001b[0m\u001b[0;34m(\u001b[0m\u001b[0mq1_idfs\u001b[0m\u001b[0;34m)\u001b[0m\u001b[0;34m\u001b[0m\u001b[0m\n\u001b[1;32m     30\u001b[0m             \u001b[0mmean_q1_idfs\u001b[0m \u001b[0;34m=\u001b[0m \u001b[0mmean\u001b[0m\u001b[0;34m(\u001b[0m\u001b[0mq1_idfs\u001b[0m\u001b[0;34m)\u001b[0m\u001b[0;34m\u001b[0m\u001b[0m\n\u001b[0;32m---> 31\u001b[0;31m             \u001b[0mmedian_q1_idfs\u001b[0m \u001b[0;34m=\u001b[0m \u001b[0mmedian\u001b[0m\u001b[0;34m(\u001b[0m\u001b[0mq1_idfs\u001b[0m\u001b[0;34m)\u001b[0m\u001b[0;34m\u001b[0m\u001b[0m\n\u001b[0m\u001b[1;32m     32\u001b[0m             \u001b[0mstd_q1_idfs\u001b[0m \u001b[0;34m=\u001b[0m \u001b[0mstd\u001b[0m\u001b[0;34m(\u001b[0m\u001b[0mq1_idfs\u001b[0m\u001b[0;34m)\u001b[0m\u001b[0;34m\u001b[0m\u001b[0m\n\u001b[1;32m     33\u001b[0m \u001b[0;34m\u001b[0m\u001b[0m\n",
      "\u001b[0;32m<ipython-input-2-0d4146cc9a56>\u001b[0m in \u001b[0;36mmedian\u001b[0;34m(x)\u001b[0m\n\u001b[1;32m     37\u001b[0m \u001b[0;32mdef\u001b[0m \u001b[0mmedian\u001b[0m\u001b[0;34m(\u001b[0m\u001b[0mx\u001b[0m\u001b[0;34m)\u001b[0m\u001b[0;34m:\u001b[0m\u001b[0;34m\u001b[0m\u001b[0m\n\u001b[1;32m     38\u001b[0m     \u001b[0mlen_2\u001b[0m \u001b[0;34m=\u001b[0m \u001b[0mlen\u001b[0m\u001b[0;34m(\u001b[0m\u001b[0mx\u001b[0m\u001b[0;34m)\u001b[0m\u001b[0;34m/\u001b[0m\u001b[0;36m2\u001b[0m\u001b[0;34m\u001b[0m\u001b[0m\n\u001b[0;32m---> 39\u001b[0;31m     \u001b[0;32mreturn\u001b[0m \u001b[0mx\u001b[0m\u001b[0;34m[\u001b[0m\u001b[0mlen_2\u001b[0m\u001b[0;34m]\u001b[0m\u001b[0;34m\u001b[0m\u001b[0m\n\u001b[0m",
      "\u001b[0;31mTypeError\u001b[0m: list indices must be integers or slices, not float"
     ]
    }
   ],
   "source": [
    "create_idf_stats_features(path+'train.csv',idf_dict,cache+'train_idf_stats_features.csv')\n",
    "create_idf_stats_features(path+'test.csv',idf_dict,cache+'test_idf_stats_features.csv')\n",
    "\n",
    "print(\"End\")"
   ]
  },
  {
   "cell_type": "code",
   "execution_count": null,
   "metadata": {},
   "outputs": [],
   "source": []
  }
 ],
 "metadata": {
  "kernelspec": {
   "display_name": "ktc",
   "language": "python",
   "name": "ktc"
  },
  "language_info": {
   "codemirror_mode": {
    "name": "ipython",
    "version": 3
   },
   "file_extension": ".py",
   "mimetype": "text/x-python",
   "name": "python",
   "nbconvert_exporter": "python",
   "pygments_lexer": "ipython3",
   "version": "3.6.4"
  }
 },
 "nbformat": 4,
 "nbformat_minor": 2
}
