{
 "cells": [
  {
   "cell_type": "code",
   "execution_count": 1,
   "metadata": {},
   "outputs": [
    {
     "name": "stdout",
     "output_type": "stream",
     "text": [
      "../data/train.csv\n",
      "finished 0\n",
      "finished 100000\n",
      "159571\n",
      "times: 0:00:01.486503\n",
      "../data/test.csv\n",
      "finished 0\n",
      "finished 100000\n",
      "153164\n",
      "times: 0:00:01.221982\n"
     ]
    }
   ],
   "source": [
    "from datetime import datetime\n",
    "from csv import DictReader\n",
    "from math import exp, log, sqrt\n",
    "from random import random,shuffle\n",
    "import pickle\n",
    "import sys\n",
    "from ngram import getUnigram\n",
    "import string\n",
    "import random\n",
    "seed =1024\n",
    "random.seed(seed)\n",
    "\n",
    "\n",
    "path = \"../data/\"\n",
    "cache = '../cache/'\n",
    "\n",
    "def prepare_hash(path,out):\n",
    "    print(path)\n",
    "    c = 0\n",
    "    start = datetime.now()\n",
    "    with open(out, 'w') as outfile:\n",
    "        outfile.write('comment_text_hash\\n')\n",
    "        for t, row in enumerate(DictReader(open(path), delimiter=',')):\n",
    "            if c%100000==0:\n",
    "                print('finished',c)\n",
    "            q1 = str(row['comment_text']).lower()\n",
    "            \n",
    "            q1 = hash(q1)\n",
    "            \n",
    "            outfile.write('%s\\n' % (q1))\n",
    "            if c!=t:\n",
    "                print(c,t)\n",
    "            c+=1\n",
    "\n",
    "        end = datetime.now()\n",
    "\n",
    "    print(c)\n",
    "    print('times:',end-start)\n",
    "\n",
    "prepare_hash(path+'train.csv',cache+'train_hashed.csv')\n",
    "prepare_hash(path+'test.csv',cache+'test_hashed.csv')"
   ]
  },
  {
   "cell_type": "code",
   "execution_count": null,
   "metadata": {},
   "outputs": [],
   "source": []
  }
 ],
 "metadata": {
  "kernelspec": {
   "display_name": "ktc",
   "language": "python",
   "name": "ktc"
  },
  "language_info": {
   "codemirror_mode": {
    "name": "ipython",
    "version": 3
   },
   "file_extension": ".py",
   "mimetype": "text/x-python",
   "name": "python",
   "nbconvert_exporter": "python",
   "pygments_lexer": "ipython3",
   "version": "3.6.4"
  }
 },
 "nbformat": 4,
 "nbformat_minor": 2
}
