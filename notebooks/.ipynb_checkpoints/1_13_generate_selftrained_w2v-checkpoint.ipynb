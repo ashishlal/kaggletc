{
 "cells": [
  {
   "cell_type": "code",
   "execution_count": 10,
   "metadata": {},
   "outputs": [],
   "source": [
    "import numpy as np\n",
    "import pandas as pd\n",
    "from sklearn.preprocessing import OneHotEncoder,LabelEncoder,StandardScaler\n",
    "from sklearn.decomposition import TruncatedSVD,PCA\n",
    "from sklearn.metrics.pairwise import cosine_similarity, pairwise_distances\n",
    "from sklearn.feature_extraction.text import TfidfVectorizer\n",
    "from gensim.models import Word2Vec\n",
    "import pickle\n",
    "import string\n",
    "# from config import path\n",
    "\n",
    "path = '../cache/'\n",
    "seed = 1024\n",
    "np.random.seed(seed)\n",
    "\n",
    "\n",
    "\n",
    "\n",
    "string.punctuation.__add__('!!')\n",
    "string.punctuation.__add__('(')\n",
    "string.punctuation.__add__(')')\n",
    "string.punctuation.__add__('?')\n",
    "string.punctuation.__add__('.')\n",
    "string.punctuation.__add__(',')\n",
    "\n",
    "\n",
    "def remove_punctuation(x):\n",
    "    new_line = [ w for w in list(x) if w not in string.punctuation]\n",
    "    new_line = ''.join(new_line)\n",
    "    return new_line\n"
   ]
  },
  {
   "cell_type": "code",
   "execution_count": 11,
   "metadata": {},
   "outputs": [],
   "source": [
    "def calc_w2v_sim(row,embedder,idf_dict,dim):\n",
    "    '''\n",
    "    Calc w2v similarities and diff of centers of query\\title\n",
    "    '''\n",
    "    a2 = [x for x in row['comment_text'].lower().split() if x in embedder.wv.vocab]\n",
    "    \n",
    "    vectorA = np.zeros(dim)\n",
    "    for w in a2:\n",
    "        if w in idf_dict:\n",
    "            coef = idf_dict[w]\n",
    "        else:\n",
    "            coef = idf_dict['default_idf']\n",
    "        vectorA += coef*embedder[w]\n",
    "    if len(a2)!=0:\n",
    "        vectorA /= len(a2)\n",
    "\n",
    "    return (vectorA)\n"
   ]
  },
  {
   "cell_type": "code",
   "execution_count": 12,
   "metadata": {},
   "outputs": [],
   "source": [
    "def gen_w2v(train,dim=100):\n",
    "    corpus = []\n",
    "    ft = ['comment_text']\n",
    "    for f in ft:\n",
    "        train[f] = train[f].astype(str).apply(lambda x:remove_punctuation(x))\n",
    "\n",
    "    model = Word2Vec.load(path+'my_w2v_%s.mdl'%dim)\n",
    "    idf_dict = pickle.load(open(path+'idf_dict.pkl','rb'))\n",
    "\n",
    "    X_w2v = []\n",
    "    sim_list = []\n",
    "    dist_list = []\n",
    "    for i,row in train.astype(str).iterrows():\n",
    "        va= calc_w2v_sim(row,model,idf_dict,dim)\n",
    "        \n",
    "        X_w2v.append(va)\n",
    "\n",
    "    X_w2v_tr = np.array(X_w2v)\n",
    "    return X_w2v_tr\n",
    "\n"
   ]
  },
  {
   "cell_type": "code",
   "execution_count": 13,
   "metadata": {},
   "outputs": [
    {
     "name": "stdout",
     "output_type": "stream",
     "text": [
      "Generate selftrained w2v sim,distance and diff\n"
     ]
    },
    {
     "ename": "AttributeError",
     "evalue": "'Word2Vec' object has no attribute 'vocab'",
     "output_type": "error",
     "traceback": [
      "\u001b[0;31m---------------------------------------------------------------------------\u001b[0m",
      "\u001b[0;31mAttributeError\u001b[0m                            Traceback (most recent call last)",
      "\u001b[0;32m<ipython-input-13-98a8628749fb>\u001b[0m in \u001b[0;36m<module>\u001b[0;34m()\u001b[0m\n\u001b[1;32m     17\u001b[0m     \u001b[0mprint\u001b[0m\u001b[0;34m(\u001b[0m\u001b[0;34m'Generate selftrained w2v sim,distance and diff'\u001b[0m\u001b[0;34m)\u001b[0m\u001b[0;34m\u001b[0m\u001b[0m\n\u001b[1;32m     18\u001b[0m \u001b[0;34m\u001b[0m\u001b[0m\n\u001b[0;32m---> 19\u001b[0;31m     \u001b[0mX_w2v_tr\u001b[0m \u001b[0;34m=\u001b[0m \u001b[0mgen_w2v\u001b[0m\u001b[0;34m(\u001b[0m\u001b[0mtrain\u001b[0m\u001b[0;34m,\u001b[0m\u001b[0mdim\u001b[0m\u001b[0;34m=\u001b[0m\u001b[0mdim\u001b[0m\u001b[0;34m)\u001b[0m\u001b[0;34m\u001b[0m\u001b[0m\n\u001b[0m\u001b[1;32m     20\u001b[0m     \u001b[0mnp\u001b[0m\u001b[0;34m.\u001b[0m\u001b[0msavetxt\u001b[0m\u001b[0;34m(\u001b[0m\u001b[0mpath\u001b[0m\u001b[0;34m+\u001b[0m\u001b[0;34m'train_selftrained_w2v.txt'\u001b[0m\u001b[0;34m,\u001b[0m\u001b[0mX_w2v_tr\u001b[0m\u001b[0;34m)\u001b[0m\u001b[0;34m\u001b[0m\u001b[0m\n\u001b[1;32m     21\u001b[0m     \u001b[0;32mdel\u001b[0m \u001b[0mX_w2v_tr\u001b[0m\u001b[0;34m\u001b[0m\u001b[0m\n",
      "\u001b[0;32m<ipython-input-12-d771458ac865>\u001b[0m in \u001b[0;36mgen_w2v\u001b[0;34m(train, dim)\u001b[0m\n\u001b[1;32m     12\u001b[0m     \u001b[0mdist_list\u001b[0m \u001b[0;34m=\u001b[0m \u001b[0;34m[\u001b[0m\u001b[0;34m]\u001b[0m\u001b[0;34m\u001b[0m\u001b[0m\n\u001b[1;32m     13\u001b[0m     \u001b[0;32mfor\u001b[0m \u001b[0mi\u001b[0m\u001b[0;34m,\u001b[0m\u001b[0mrow\u001b[0m \u001b[0;32min\u001b[0m \u001b[0mtrain\u001b[0m\u001b[0;34m.\u001b[0m\u001b[0mastype\u001b[0m\u001b[0;34m(\u001b[0m\u001b[0mstr\u001b[0m\u001b[0;34m)\u001b[0m\u001b[0;34m.\u001b[0m\u001b[0miterrows\u001b[0m\u001b[0;34m(\u001b[0m\u001b[0;34m)\u001b[0m\u001b[0;34m:\u001b[0m\u001b[0;34m\u001b[0m\u001b[0m\n\u001b[0;32m---> 14\u001b[0;31m         \u001b[0mva\u001b[0m\u001b[0;34m=\u001b[0m \u001b[0mcalc_w2v_sim\u001b[0m\u001b[0;34m(\u001b[0m\u001b[0mrow\u001b[0m\u001b[0;34m,\u001b[0m\u001b[0mmodel\u001b[0m\u001b[0;34m,\u001b[0m\u001b[0midf_dict\u001b[0m\u001b[0;34m,\u001b[0m\u001b[0mdim\u001b[0m\u001b[0;34m)\u001b[0m\u001b[0;34m\u001b[0m\u001b[0m\n\u001b[0m\u001b[1;32m     15\u001b[0m \u001b[0;34m\u001b[0m\u001b[0m\n\u001b[1;32m     16\u001b[0m         \u001b[0mX_w2v\u001b[0m\u001b[0;34m.\u001b[0m\u001b[0mappend\u001b[0m\u001b[0;34m(\u001b[0m\u001b[0mva\u001b[0m\u001b[0;34m)\u001b[0m\u001b[0;34m\u001b[0m\u001b[0m\n",
      "\u001b[0;32m<ipython-input-11-76f8835b9acc>\u001b[0m in \u001b[0;36mcalc_w2v_sim\u001b[0;34m(row, embedder, idf_dict, dim)\u001b[0m\n\u001b[1;32m      3\u001b[0m     \u001b[0mCalc\u001b[0m \u001b[0mw2v\u001b[0m \u001b[0msimilarities\u001b[0m \u001b[0;32mand\u001b[0m \u001b[0mdiff\u001b[0m \u001b[0mof\u001b[0m \u001b[0mcenters\u001b[0m \u001b[0mof\u001b[0m \u001b[0mquery\u001b[0m\u001b[0;31m\\\u001b[0m\u001b[0mtitle\u001b[0m\u001b[0;34m\u001b[0m\u001b[0m\n\u001b[1;32m      4\u001b[0m     '''\n\u001b[0;32m----> 5\u001b[0;31m     \u001b[0ma2\u001b[0m \u001b[0;34m=\u001b[0m \u001b[0;34m[\u001b[0m\u001b[0mx\u001b[0m \u001b[0;32mfor\u001b[0m \u001b[0mx\u001b[0m \u001b[0;32min\u001b[0m \u001b[0mrow\u001b[0m\u001b[0;34m[\u001b[0m\u001b[0;34m'comment_text'\u001b[0m\u001b[0;34m]\u001b[0m\u001b[0;34m.\u001b[0m\u001b[0mlower\u001b[0m\u001b[0;34m(\u001b[0m\u001b[0;34m)\u001b[0m\u001b[0;34m.\u001b[0m\u001b[0msplit\u001b[0m\u001b[0;34m(\u001b[0m\u001b[0;34m)\u001b[0m \u001b[0;32mif\u001b[0m \u001b[0mx\u001b[0m \u001b[0;32min\u001b[0m \u001b[0membedder\u001b[0m\u001b[0;34m.\u001b[0m\u001b[0mvocab\u001b[0m\u001b[0;34m]\u001b[0m\u001b[0;34m\u001b[0m\u001b[0m\n\u001b[0m\u001b[1;32m      6\u001b[0m \u001b[0;34m\u001b[0m\u001b[0m\n\u001b[1;32m      7\u001b[0m     \u001b[0mvectorA\u001b[0m \u001b[0;34m=\u001b[0m \u001b[0mnp\u001b[0m\u001b[0;34m.\u001b[0m\u001b[0mzeros\u001b[0m\u001b[0;34m(\u001b[0m\u001b[0mdim\u001b[0m\u001b[0;34m)\u001b[0m\u001b[0;34m\u001b[0m\u001b[0m\n",
      "\u001b[0;32m<ipython-input-11-76f8835b9acc>\u001b[0m in \u001b[0;36m<listcomp>\u001b[0;34m(.0)\u001b[0m\n\u001b[1;32m      3\u001b[0m     \u001b[0mCalc\u001b[0m \u001b[0mw2v\u001b[0m \u001b[0msimilarities\u001b[0m \u001b[0;32mand\u001b[0m \u001b[0mdiff\u001b[0m \u001b[0mof\u001b[0m \u001b[0mcenters\u001b[0m \u001b[0mof\u001b[0m \u001b[0mquery\u001b[0m\u001b[0;31m\\\u001b[0m\u001b[0mtitle\u001b[0m\u001b[0;34m\u001b[0m\u001b[0m\n\u001b[1;32m      4\u001b[0m     '''\n\u001b[0;32m----> 5\u001b[0;31m     \u001b[0ma2\u001b[0m \u001b[0;34m=\u001b[0m \u001b[0;34m[\u001b[0m\u001b[0mx\u001b[0m \u001b[0;32mfor\u001b[0m \u001b[0mx\u001b[0m \u001b[0;32min\u001b[0m \u001b[0mrow\u001b[0m\u001b[0;34m[\u001b[0m\u001b[0;34m'comment_text'\u001b[0m\u001b[0;34m]\u001b[0m\u001b[0;34m.\u001b[0m\u001b[0mlower\u001b[0m\u001b[0;34m(\u001b[0m\u001b[0;34m)\u001b[0m\u001b[0;34m.\u001b[0m\u001b[0msplit\u001b[0m\u001b[0;34m(\u001b[0m\u001b[0;34m)\u001b[0m \u001b[0;32mif\u001b[0m \u001b[0mx\u001b[0m \u001b[0;32min\u001b[0m \u001b[0membedder\u001b[0m\u001b[0;34m.\u001b[0m\u001b[0mvocab\u001b[0m\u001b[0;34m]\u001b[0m\u001b[0;34m\u001b[0m\u001b[0m\n\u001b[0m\u001b[1;32m      6\u001b[0m \u001b[0;34m\u001b[0m\u001b[0m\n\u001b[1;32m      7\u001b[0m     \u001b[0mvectorA\u001b[0m \u001b[0;34m=\u001b[0m \u001b[0mnp\u001b[0m\u001b[0;34m.\u001b[0m\u001b[0mzeros\u001b[0m\u001b[0;34m(\u001b[0m\u001b[0mdim\u001b[0m\u001b[0;34m)\u001b[0m\u001b[0;34m\u001b[0m\u001b[0m\n",
      "\u001b[0;31mAttributeError\u001b[0m: 'Word2Vec' object has no attribute 'vocab'"
     ]
    }
   ],
   "source": [
    "if __name__ == '__main__':\n",
    "    dim = 100\n",
    "    ft = ['comment_text']\n",
    "    train = pd.read_csv(\"../data/train.csv\")[ft]\n",
    "    test = pd.read_csv(\"../data/test.csv\")[ft]\n",
    "\n",
    "    corpus = []\n",
    "    for f in ft:\n",
    "        train[f] = train[f].astype(str).apply(lambda x:remove_punctuation(x))\n",
    "        test[f] = test[f].astype(str).apply(lambda x:remove_punctuation(x))\n",
    "        corpus+=train[f].values.tolist()\n",
    "\n",
    "    corpus = [d.lower().split(\" \") for d in corpus]\n",
    "    model = Word2Vec(corpus, size=dim, window=5, min_count=5, workers=7)\n",
    "    model.save(path+'my_w2v_%s.mdl'%dim)\n",
    "\n",
    "    print('Generate selftrained w2v sim,distance and diff')\n",
    "\n",
    "    X_w2v_tr = gen_w2v(train,dim=dim)\n",
    "    np.savetxt(path+'train_selftrained_w2v.txt',X_w2v_tr)\n",
    "    del X_w2v_tr\n",
    "\n",
    "    X_w2v_te = gen_w2v(test,dim=dim)\n",
    "    np.savetxt(path+'test_selftrained_w2v.txt',X_w2v_te)\n"
   ]
  },
  {
   "cell_type": "code",
   "execution_count": null,
   "metadata": {},
   "outputs": [],
   "source": []
  }
 ],
 "metadata": {
  "kernelspec": {
   "display_name": "ktc",
   "language": "python",
   "name": "ktc"
  },
  "language_info": {
   "codemirror_mode": {
    "name": "ipython",
    "version": 3
   },
   "file_extension": ".py",
   "mimetype": "text/x-python",
   "name": "python",
   "nbconvert_exporter": "python",
   "pygments_lexer": "ipython3",
   "version": "3.6.4"
  }
 },
 "nbformat": 4,
 "nbformat_minor": 2
}
