{
 "cells": [
  {
   "cell_type": "code",
   "execution_count": 1,
   "metadata": {},
   "outputs": [],
   "source": [
    "from datetime import datetime\n",
    "from csv import DictReader\n",
    "from math import exp, log, sqrt\n",
    "from random import random,shuffle\n",
    "import pickle\n",
    "import sys\n",
    "import string\n",
    "# from config import path\n",
    "\n",
    "path = '../cache/'\n",
    "def cooccurrence_terms(lst1, lst2, join_str=\"__\"):\n",
    "    lst1 = lst1.split(\" \")\n",
    "    lst2 = lst2.split(\" \")\n",
    "    terms = [\"\"] * len(lst1) * len(lst2)\n",
    "    cnt =  0\n",
    "    for item1 in lst1:\n",
    "        for item2 in lst2:\n",
    "            tmp = sorted([item1,item2])\n",
    "            terms[cnt] = tmp[0] + join_str + tmp[1]\n",
    "            cnt += 1\n",
    "    return terms\n",
    "\n",
    "# def common_terms(lst1, lst2):\n",
    "#     lst1 = lst1.split(\" \")\n",
    "#     lst2 = lst2.split(\" \")\n",
    "#     common = set(lst1).intersection(set(lst2))\n",
    "#     return common\n",
    "\n",
    "def H(terms,count_dict,n):\n",
    "    s = 0.0\n",
    "    for word in terms:\n",
    "        s+=-(count_dict[word]/n)*log(count_dict[word]/n)\n",
    "    return s\n",
    "\n",
    "def create_df_dict(path,smooth=1.0,inverse=False,ngram='unigram'):\n",
    "    K_dict = dict()\n",
    "    print(path)\n",
    "    c = 0\n",
    "    start = datetime.now()\n",
    "    sentences = []\n",
    "\n",
    "    for t, row in enumerate(DictReader(open(path), delimiter=',')):\n",
    "        if c%100000==0:\n",
    "            print('finished',c)\n",
    "        q1 = (str(row['comment_text_%s'%ngram])).lower()\n",
    "        \n",
    "\n",
    "        for sentence in q1:\n",
    "            for key in sentence.split(\" \"):\n",
    "                df = K_dict.get(key,0)\n",
    "                K_dict[key] = df+1\n",
    "        c+=1\n",
    "\n",
    "    K_dict[\"default_idf\"] = 1\n",
    "    end = datetime.now()\n",
    "    print('times:',end-start)\n",
    "    return K_dict\n",
    "\n",
    "\n",
    "\n"
   ]
  },
  {
   "cell_type": "code",
   "execution_count": 2,
   "metadata": {},
   "outputs": [
    {
     "name": "stdout",
     "output_type": "stream",
     "text": [
      "Generate question df dict\n",
      "../cache/train_unigram.csv\n",
      "finished 0\n",
      "finished 100000\n",
      "times: 0:00:20.278585\n",
      "../cache/train_bigram.csv\n",
      "finished 0\n",
      "finished 100000\n",
      "times: 0:00:37.407522\n"
     ]
    }
   ],
   "source": [
    "print(\"Generate question df dict\")\n",
    "df_dict_unigram = create_df_dict(path+\"train_unigram.csv\",inverse=False,ngram='unigram')\n",
    "df_dict_bigram = create_df_dict(path+\"train_bigram.csv\",inverse=False,ngram='bigram')"
   ]
  },
  {
   "cell_type": "code",
   "execution_count": 3,
   "metadata": {},
   "outputs": [],
   "source": [
    "def entropy(seq1,df_dict):\n",
    "    n = (159571.0)*2\n",
    "    HA = 0.0\n",
    "    for w in seq1:\n",
    "        df = df_dict.get(w,df_dict['default_idf'])\n",
    "        # print df\n",
    "        HA+=-(df/n)*log(df/n)\n",
    "\n",
    "    return HA\n"
   ]
  },
  {
   "cell_type": "code",
   "execution_count": 4,
   "metadata": {},
   "outputs": [],
   "source": [
    "def prepare_entropy(path,out,ngram='unigram'):\n",
    "    print(path)\n",
    "    c = 0\n",
    "    start = datetime.now()\n",
    "    with open(out, 'w') as outfile:\n",
    "        outfile.write('max_entropy,min_entropy\\n')\n",
    "        for t, row in enumerate(DictReader(open(path), delimiter=',')):\n",
    "            if c%100000==0:\n",
    "                print('finished',c)\n",
    "            q1 = str(row['comment_text_%s'%ngram]).split(' ')\n",
    "            \n",
    "            if ngram=='unigram':\n",
    "                df_dict=df_dict_unigram\n",
    "            elif ngram=='bigram':\n",
    "                df_dict = df_dict_bigram\n",
    "            HA= entropy(q1,df_dict)\n",
    "            \n",
    "\n",
    "            outfile.write('%s\\n' % (HA))\n",
    "            c+=1\n",
    "        end = datetime.now()\n",
    "    print('times:',end-start)\n"
   ]
  },
  {
   "cell_type": "code",
   "execution_count": 5,
   "metadata": {},
   "outputs": [
    {
     "name": "stdout",
     "output_type": "stream",
     "text": [
      "../cache/train_unigram.csv\n",
      "finished 0\n",
      "finished 100000\n",
      "times: 0:00:05.563698\n",
      "../cache/test_unigram.csv\n",
      "finished 0\n",
      "finished 100000\n",
      "times: 0:00:04.817244\n"
     ]
    }
   ],
   "source": [
    "prepare_entropy(path+'train_unigram.csv',path+'train_entropy_unigram.csv','unigram')\n",
    "prepare_entropy(path+'test_unigram.csv',path+'test_entropy_unigram.csv','unigram')"
   ]
  },
  {
   "cell_type": "code",
   "execution_count": 6,
   "metadata": {},
   "outputs": [
    {
     "name": "stdout",
     "output_type": "stream",
     "text": [
      "../cache/train_bigram.csv\n",
      "finished 0\n",
      "finished 100000\n",
      "times: 0:00:05.992688\n",
      "../cache/test_bigram.csv\n",
      "finished 0\n",
      "finished 100000\n",
      "times: 0:00:05.461808\n"
     ]
    }
   ],
   "source": [
    "prepare_entropy(path+'train_bigram.csv',path+'train_entropy_bigram.csv','bigram')\n",
    "prepare_entropy(path+'test_bigram.csv',path+'test_entropy_bigram.csv','bigram')"
   ]
  },
  {
   "cell_type": "code",
   "execution_count": null,
   "metadata": {},
   "outputs": [],
   "source": []
  }
 ],
 "metadata": {
  "kernelspec": {
   "display_name": "ktc",
   "language": "python",
   "name": "ktc"
  },
  "language_info": {
   "codemirror_mode": {
    "name": "ipython",
    "version": 3
   },
   "file_extension": ".py",
   "mimetype": "text/x-python",
   "name": "python",
   "nbconvert_exporter": "python",
   "pygments_lexer": "ipython3",
   "version": "3.6.4"
  }
 },
 "nbformat": 4,
 "nbformat_minor": 2
}
