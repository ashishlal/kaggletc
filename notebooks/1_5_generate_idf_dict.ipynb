{
 "cells": [
  {
   "cell_type": "code",
   "execution_count": 1,
   "metadata": {},
   "outputs": [],
   "source": [
    "#############################################################################################################\n",
    "# Created by qqgeogor\n",
    "# https://www.kaggle.com/qqgeogor\n",
    "#############################################################################################################\n",
    "\n",
    "from datetime import datetime\n",
    "from csv import DictReader\n",
    "from math import exp, log, sqrt\n",
    "from random import random,shuffle\n",
    "import pickle\n",
    "import sys\n",
    "import string\n",
    "# from config import path\n",
    "\n",
    "path = '../data/'\n",
    "\n",
    "string.punctuation.__add__('!!')\n",
    "string.punctuation.__add__('(')\n",
    "string.punctuation.__add__(')')\n",
    "string.punctuation.__add__('?')\n",
    "string.punctuation.__add__('.')\n",
    "string.punctuation.__add__(',')\n",
    "\n",
    "\n",
    "def remove_punctuation(x):\n",
    "    new_line = [ w for w in list(x) if w not in string.punctuation]\n",
    "    new_line = ''.join(new_line)\n",
    "    return new_line\n",
    "\n",
    "def get_idf(df,n,smooth=1):\n",
    "    idf = log((smooth + n) / (smooth + df))\n",
    "    return idf\n",
    "\n",
    "\n"
   ]
  },
  {
   "cell_type": "code",
   "execution_count": 2,
   "metadata": {},
   "outputs": [],
   "source": [
    "def create_idf_dict(path,smooth=1.0,inverse=False):\n",
    "    K_dict = dict()\n",
    "    print(path)\n",
    "    c = 0\n",
    "    start = datetime.now()\n",
    "    sentences = []\n",
    "\n",
    "    for t, row in enumerate(DictReader(open(path), delimiter=',')):\n",
    "        if c%100000==0:\n",
    "            print('finished',c)\n",
    "        q1 = remove_punctuation(str(row['comment_text'])).lower()\n",
    "\n",
    "        for sentence in [q1]:\n",
    "            for key in sentence.split(\" \"):\n",
    "                df = K_dict.get(key,0)\n",
    "                K_dict[key] = df+1\n",
    "        c+=1\n",
    "    n = c*2\n",
    "    for key in K_dict:\n",
    "        K_dict[key] = get_idf(K_dict[key] ,n,smooth=smooth)\n",
    "    K_dict[\"default_idf\"] = get_idf(0 ,n,smooth=smooth)\n",
    "    end = datetime.now()\n",
    "    print('times:',end-start)\n",
    "    return K_dict\n",
    "\n",
    "\n"
   ]
  },
  {
   "cell_type": "code",
   "execution_count": 3,
   "metadata": {},
   "outputs": [
    {
     "name": "stdout",
     "output_type": "stream",
     "text": [
      "Generate question idf dict\n",
      "../data/train.csv\n",
      "finished 0\n",
      "finished 100000\n",
      "times: 0:00:10.307983\n",
      "Dumping\n",
      "End\n"
     ]
    }
   ],
   "source": [
    "print(\"Generate question idf dict\")\n",
    "idf_dict = create_idf_dict(path+\"train.csv\",inverse=False)\n",
    "\n",
    "print(\"Dumping\")\n",
    "\n",
    "pickle.dump(idf_dict,open('../cache/idf_dict.pkl','wb'))\n",
    "print(\"End\")"
   ]
  },
  {
   "cell_type": "code",
   "execution_count": null,
   "metadata": {},
   "outputs": [],
   "source": []
  }
 ],
 "metadata": {
  "kernelspec": {
   "display_name": "ktc",
   "language": "python",
   "name": "ktc"
  },
  "language_info": {
   "codemirror_mode": {
    "name": "ipython",
    "version": 3
   },
   "file_extension": ".py",
   "mimetype": "text/x-python",
   "name": "python",
   "nbconvert_exporter": "python",
   "pygments_lexer": "ipython3",
   "version": "3.6.4"
  }
 },
 "nbformat": 4,
 "nbformat_minor": 2
}
