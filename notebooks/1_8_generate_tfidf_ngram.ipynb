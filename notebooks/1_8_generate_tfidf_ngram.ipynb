{
 "cells": [
  {
   "cell_type": "code",
   "execution_count": 1,
   "metadata": {},
   "outputs": [
    {
     "name": "stdout",
     "output_type": "stream",
     "text": [
      "(153164, 1)\n",
      "Generate tfidf\n",
      "(153164, 38394)\n"
     ]
    }
   ],
   "source": [
    "import pandas as pd\n",
    "import numpy as np\n",
    "from sklearn.feature_extraction import text\n",
    "from sklearn.feature_extraction.text import TfidfVectorizer\n",
    "seed = 1024\n",
    "np.random.seed(seed)\n",
    "# from config import path\n",
    "\n",
    "path = '../cache/'\n",
    "\n",
    "ft = ['comment_text_unigram']\n",
    "train = pd.read_csv(path+\"train_unigram.csv\")[ft]\n",
    "\n",
    "test = pd.read_csv(path+\"test_unigram.csv\")[ft]\n",
    "print(test.shape)\n",
    "len_train = train.shape[0]\n",
    "\n",
    "max_features = None\n",
    "ngram_range = (1,1)\n",
    "min_df = 3\n",
    "print('Generate tfidf')\n",
    "feats= ['comment_text_unigram']\n",
    "vect_orig = TfidfVectorizer(max_features=max_features,ngram_range=ngram_range, min_df=min_df)\n",
    "\n",
    "corpus = []\n",
    "for f in feats:\n",
    "    train[f] = train[f].astype(str)\n",
    "    test[f] = test[f].astype(str)\n",
    "    corpus+=train[f].values.tolist()\n",
    "\n",
    "vect_orig.fit(\n",
    "    corpus\n",
    "    )\n",
    "\n",
    "for f in feats:\n",
    "    train_tfidf = vect_orig.transform(train[f].values.tolist())\n",
    "    test_tfidf = vect_orig.transform(test[f].values.tolist())\n",
    "    print(test_tfidf.shape)\n",
    "    pd.to_pickle(train_tfidf,path+'train_%s_tfidf.pkl'%f)\n",
    "    pd.to_pickle(test_tfidf,path+'test_%s_tfidf.pkl'%f)\n"
   ]
  },
  {
   "cell_type": "code",
   "execution_count": 2,
   "metadata": {},
   "outputs": [
    {
     "name": "stdout",
     "output_type": "stream",
     "text": [
      "Generate tfidf\n"
     ]
    }
   ],
   "source": [
    "ft = ['comment_text_bigram']\n",
    "train = pd.read_csv(path+\"train_bigram.csv\")[ft]\n",
    "test = pd.read_csv(path+\"test_bigram.csv\")[ft]\n",
    "\n",
    "len_train = train.shape[0]\n",
    "\n",
    "max_features = None\n",
    "ngram_range = (1,1)\n",
    "min_df = 3\n",
    "print('Generate tfidf')\n",
    "feats= ['comment_text_bigram']\n",
    "vect_orig = TfidfVectorizer(max_features=max_features,ngram_range=ngram_range, min_df=min_df)\n",
    "\n",
    "corpus = []\n",
    "for f in feats:\n",
    "    train[f] = train[f].astype(str)\n",
    "    test[f] = test[f].astype(str)\n",
    "    corpus+=train[f].values.tolist()\n",
    "\n",
    "vect_orig.fit(\n",
    "    corpus\n",
    "    )\n",
    "\n",
    "for f in feats:\n",
    "    train_tfidf = vect_orig.transform(train[f].values.tolist())\n",
    "    test_tfidf = vect_orig.transform(test[f].values.tolist())\n",
    "\n",
    "    pd.to_pickle(train_tfidf,path+'train_%s_tfidf.pkl'%f)\n",
    "    pd.to_pickle(test_tfidf,path+'test_%s_tfidf.pkl'%f)\n"
   ]
  },
  {
   "cell_type": "code",
   "execution_count": null,
   "metadata": {},
   "outputs": [],
   "source": []
  }
 ],
 "metadata": {
  "kernelspec": {
   "display_name": "ktc",
   "language": "python",
   "name": "ktc"
  },
  "language_info": {
   "codemirror_mode": {
    "name": "ipython",
    "version": 3
   },
   "file_extension": ".py",
   "mimetype": "text/x-python",
   "name": "python",
   "nbconvert_exporter": "python",
   "pygments_lexer": "ipython3",
   "version": "3.6.4"
  }
 },
 "nbformat": 4,
 "nbformat_minor": 2
}
