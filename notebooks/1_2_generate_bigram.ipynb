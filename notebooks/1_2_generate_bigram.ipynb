{
 "cells": [
  {
   "cell_type": "code",
   "execution_count": 1,
   "metadata": {},
   "outputs": [],
   "source": [
    "from datetime import datetime\n",
    "from csv import DictReader\n",
    "from math import exp, log, sqrt\n",
    "from random import random,shuffle\n",
    "import pickle\n",
    "import sys\n",
    "from ngram import getBigram\n",
    "import string\n",
    "\n",
    "\n",
    "path = '../cache/'\n"
   ]
  },
  {
   "cell_type": "code",
   "execution_count": 2,
   "metadata": {},
   "outputs": [],
   "source": [
    "\n",
    "\n",
    "string.punctuation.__add__('!!')\n",
    "string.punctuation.__add__('(')\n",
    "string.punctuation.__add__(')')\n",
    "string.punctuation.__add__('?')\n",
    "string.punctuation.__add__('.')\n",
    "string.punctuation.__add__(',')\n",
    "\n",
    "\n",
    "def remove_punctuation(x):\n",
    "    new_line = [ w for w in list(x) if w not in string.punctuation]\n",
    "    new_line = ''.join(new_line)\n",
    "    return new_line\n",
    "\n",
    "def prepare_bigram(path,out):\n",
    "    print(path)\n",
    "    c = 0\n",
    "    start = datetime.now()\n",
    "    with open(out, 'w') as outfile:\n",
    "        outfile.write('comment_text_bigram\\n')\n",
    "        for t, row in enumerate(DictReader(open(path), delimiter=',')):\n",
    "            if c%100000==0:\n",
    "                print('finished',c)\n",
    "            q1 = remove_punctuation(str(row['comment_text_porter']).lower()).split(' ')\n",
    "            \n",
    "            q1_bigram = getBigram(q1)\n",
    "            \n",
    "            q1_bigram = ' '.join(q1_bigram)\n",
    "            outfile.write('%s\\n' % (q1_bigram))\n",
    "\n",
    "\n",
    "            c+=1\n",
    "        end = datetime.now()\n",
    "\n",
    "\n",
    "    print('times:',end-start)\n"
   ]
  },
  {
   "cell_type": "code",
   "execution_count": 3,
   "metadata": {},
   "outputs": [
    {
     "name": "stdout",
     "output_type": "stream",
     "text": [
      "../cache/train_porter.csv\n",
      "finished 0\n",
      "finished 100000\n",
      "times: 0:00:13.597160\n",
      "../cache/test_porter.csv\n",
      "finished 0\n",
      "finished 100000\n",
      "times: 0:00:11.527839\n"
     ]
    }
   ],
   "source": [
    "\n",
    "prepare_bigram(path+'train_porter.csv',path+'train_bigram.csv')\n",
    "\n",
    "prepare_bigram(path+'test_porter.csv',path+'test_bigram.csv')\n"
   ]
  },
  {
   "cell_type": "code",
   "execution_count": 4,
   "metadata": {},
   "outputs": [
    {
     "data": {
      "text/plain": [
       "(153164, 1)"
      ]
     },
     "execution_count": 4,
     "metadata": {},
     "output_type": "execute_result"
    }
   ],
   "source": [
    "import pandas as pd\n",
    "df_test=pd.read_csv('../cache/test_bigram.csv')\n",
    "df_test.shape"
   ]
  },
  {
   "cell_type": "code",
   "execution_count": null,
   "metadata": {},
   "outputs": [],
   "source": []
  }
 ],
 "metadata": {
  "kernelspec": {
   "display_name": "ktc",
   "language": "python",
   "name": "ktc"
  },
  "language_info": {
   "codemirror_mode": {
    "name": "ipython",
    "version": 3
   },
   "file_extension": ".py",
   "mimetype": "text/x-python",
   "name": "python",
   "nbconvert_exporter": "python",
   "pygments_lexer": "ipython3",
   "version": "3.6.4"
  }
 },
 "nbformat": 4,
 "nbformat_minor": 2
}
