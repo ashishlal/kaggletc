{
 "cells": [
  {
   "cell_type": "code",
   "execution_count": 1,
   "metadata": {},
   "outputs": [
    {
     "name": "stdout",
     "output_type": "stream",
     "text": [
      "comment_text_unigram\n",
      "comment_text_bigram\n"
     ]
    }
   ],
   "source": [
    "import pandas as pd\n",
    "import numpy as np\n",
    "from scipy import sparse as ssp\n",
    "from sklearn.model_selection import KFold,train_test_split,StratifiedKFold\n",
    "from sklearn.linear_model import LogisticRegression\n",
    "from sklearn.preprocessing import MinMaxScaler\n",
    "from sklearn.metrics import log_loss\n",
    "from sklearn.decomposition import NMF\n",
    "seed = 1024\n",
    "np.random.seed(seed)\n",
    "# from config import path\n",
    "path = '../cache/'\n",
    "\n",
    "feats= ['comment_text_unigram','comment_text_bigram']\n",
    "for f in feats:\n",
    "    print(f)\n",
    "    X = pd.read_pickle(path+'train_%s_tfidf.pkl'%f)\n",
    "    nmf = NMF(n_components=4,random_state=seed)\n",
    "    X = nmf.fit_transform(X)\n",
    "    pd.to_pickle(X,path+'train_%s_tfidf_nmf.pkl'%f)\n",
    "    del X\n",
    "    X_t = pd.read_pickle(path+'test_%s_tfidf.pkl'%f)\n",
    "    X_t = nmf.transform(X_t)\n",
    "    pd.to_pickle(X_t,path+'test_%s_tfidf_nmf.pkl'%f)\n",
    "    del X_t\n"
   ]
  },
  {
   "cell_type": "code",
   "execution_count": null,
   "metadata": {},
   "outputs": [],
   "source": [
    "# feats= ['comment_text','comment_text_porter']\n",
    "# for f in feats:\n",
    "#     print(f)\n",
    "#     X = pd.read_pickle(path+'train_%s_tfidf.pkl'%f)\n",
    "#     nmf = NMF(n_components=4,random_state=seed)\n",
    "#     X = nmf.fit_transform(X)\n",
    "#     pd.to_pickle(X,path+'train_%s_tfidf_nmf.pkl'%f)\n",
    "#     del X\n",
    "#     X_t = pd.read_pickle(path+'test_%s_tfidf.pkl'%f)\n",
    "#     X_t = nmf.transform(X_t)\n",
    "#     pd.to_pickle(X_t,path+'test_%s_tfidf_nmf.pkl'%f)\n",
    "#     del X_t"
   ]
  }
 ],
 "metadata": {
  "kernelspec": {
   "display_name": "ktc",
   "language": "python",
   "name": "ktc"
  },
  "language_info": {
   "codemirror_mode": {
    "name": "ipython",
    "version": 3
   },
   "file_extension": ".py",
   "mimetype": "text/x-python",
   "name": "python",
   "nbconvert_exporter": "python",
   "pygments_lexer": "ipython3",
   "version": "3.6.4"
  }
 },
 "nbformat": 4,
 "nbformat_minor": 2
}
