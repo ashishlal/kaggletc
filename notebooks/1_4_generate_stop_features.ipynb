{
 "cells": [
  {
   "cell_type": "code",
   "execution_count": 1,
   "metadata": {},
   "outputs": [],
   "source": [
    "from datetime import datetime\n",
    "from csv import DictReader\n",
    "from math import exp, log, sqrt\n",
    "from random import random,shuffle\n",
    "import pickle\n",
    "import sys\n",
    "from feat_utils import get_count_q1_in_q2\n",
    "from feat_utils import get_ratio_q1_in_q2\n",
    "# from config import path\n",
    "path = '../cache/'\n",
    "\n",
    "stops = [\"http\",\"www\",\"img\",\"border\",\"home\",\"body\",\"a\",\"about\",\"above\",\"after\",\"again\",\"against\",\"all\",\"am\",\"an\",\n",
    "\"and\",\"any\",\"are\",\"aren't\",\"as\",\"at\",\"be\",\"because\",\"been\",\"before\",\"being\",\"below\",\"between\",\"both\",\"but\",\"by\",\"can't\",\n",
    "\"cannot\",\"could\",\"couldn't\",\"did\",\"didn't\",\"do\",\"does\",\"doesn't\",\"doing\",\"don't\",\"down\",\"during\",\"each\",\"few\",\"for\",\"from\",\n",
    "\"further\",\"had\",\"hadn't\",\"has\",\"hasn't\",\"have\",\"haven't\",\"having\",\"he\",\"he'd\",\"he'll\",\"he's\",\"her\",\"here\",\"here's\",\"hers\",\n",
    "\"herself\",\"him\",\"himself\",\"his\",\"how\",\"how's\",\"i\",\"i'd\",\"i'll\",\"i'm\",\"i've\",\"if\",\"in\",\"into\",\"is\",\"isn't\",\"it\",\"it's\",\"its\",\n",
    "\"itself\",\"let's\",\"me\",\"more\",\"most\",\"mustn't\",\"my\",\"myself\",\"no\",\"nor\",\"not\",\"of\",\"off\",\"on\",\"once\",\"only\",\"or\",\"other\",\"ought\",\n",
    "\"our\",\"ours\",\"ourselves\",\"out\",\"over\",\"own\",\"same\",\"shan't\",\"she\",\"she'd\",\"she'll\",\"she's\",\"should\",\"shouldn't\",\"so\",\"some\",\"such\",\n",
    "\"than\",\"that\",\"that's\",\"the\",\"their\",\"theirs\",\"them\",\"themselves\",\"then\",\"there\",\"there's\",\"these\",\"they\",\"they'd\",\"they'll\",\"they're\",\n",
    "\"they've\",\"this\",\"those\",\"through\",\"to\",\"too\",\"under\",\"until\",\"up\",\"very\",\"was\",\"wasn't\",\"we\",\"we'd\",\"we'll\",\"we're\",\"we've\",\"were\",\n",
    "\"weren't\",\"what\",\"what's\",\"when\",\"when's\"\"where\",\"where's\",\"which\",\"while\",\"who\",\"who's\",\"whom\",\"why\",\"why's\",\"with\",\"won't\",\"would\",\n",
    "\"wouldn't\",\"you\",\"you'd\",\"you'll\",\"you're\",\"you've\",\"your\",\"yours\",\"yourself\",\"yourselves\" ]\n",
    "\n",
    "\n",
    "cuss = ['shit', 'fuck', 'damn', 'bitch', 'crap', 'piss', 'dick', 'darn', 'cock', 'pussy', 'asshole', 'fag',\n",
    " 'bastard', 'slut', 'douche', 'bloody', 'cunt', 'bugger', 'bollocks', 'arsehole', 'cumbubble', \n",
    " 'fucktrumpet', 'knobhead', 'pissflaps', 'twat', 'shitbag', 'cocknose', 'dickweed', 'bitchtits', \n",
    " 'arsebadger', 'jizzcock', 'boabby', 'cumdumpster', 'wanker', 'twatwaffle', 'thundercunt', 'dickhead',\n",
    " 'shitpouch', 'pish', 'jizzstain', 'nonce', 'pisskidney', 'wazzock', 'cumwipe', 'fanny', 'bellend', \n",
    " 'pisswizard', 'knobjockey', 'cuntpuddle', 'dickeweasel', 'quim', 'bawbag', 'fuckwit', 'tosspot', 'cockwomble',\n",
    " 'twatface', 'cack', 'fucknugget', 'cunt', 'knobber', 'fuckface', 'shitmagnet', 'bumhole', 'shite', 'scrote',\n",
    " 'cuntflaps', 'flange', 'bugger', 'slag', 'shag', 'arsebastard', 'clunge', 'fannyflaps', 'wankface',\n",
    " 'knoncheese', 'jizzbreath']\n"
   ]
  },
  {
   "cell_type": "code",
   "execution_count": 2,
   "metadata": {},
   "outputs": [],
   "source": [
    "def prepare_ngram_interaction(path,out):\n",
    "    print(path)\n",
    "    c = 0\n",
    "    start = datetime.now()\n",
    "    with open(out, 'w') as outfile:\n",
    "        outfile.write('count_of_stop,ratio_of_stop,count_of_cuss,ratio_of_cuss\\n')\n",
    "        for t, row in enumerate(DictReader(open(path), delimiter=',')):\n",
    "            if c%100000==0:\n",
    "                print('finished',c)\n",
    "            q1_ngram = str(row['comment_text'].lower()).split()\n",
    "            \n",
    "\n",
    "            count_of_stop_question1 = get_count_q1_in_q2(q1_ngram,stops)\n",
    "            ratio_of_stop_question1 = get_ratio_q1_in_q2(q1_ngram,stops)\n",
    "\n",
    "            count_of_cuss_question1 = get_count_q1_in_q2(q1_ngram,cuss)\n",
    "            ratio_of_cuss_question1 = get_ratio_q1_in_q2(q1_ngram,cuss)\n",
    "            \n",
    "            outfile.write('%s,%s,%s,%s\\n' % (\n",
    "                count_of_stop_question1,\n",
    "                ratio_of_stop_question1,\n",
    "                count_of_cuss_question1,\n",
    "                ratio_of_cuss_question1\n",
    "                ))\n",
    "            c+=1\n",
    "        end = datetime.now()\n",
    "\n",
    "    print('times:',end-start)"
   ]
  },
  {
   "cell_type": "code",
   "execution_count": 3,
   "metadata": {},
   "outputs": [
    {
     "name": "stdout",
     "output_type": "stream",
     "text": [
      "../cache/train_porter.csv\n",
      "finished 0\n",
      "finished 100000\n",
      "times: 0:00:07.739586\n",
      "../cache/test_porter.csv\n",
      "finished 0\n",
      "finished 100000\n",
      "times: 0:00:06.688444\n"
     ]
    }
   ],
   "source": [
    "\n",
    "\n",
    "prepare_ngram_interaction(path+'train_porter.csv',path+'train_porter_stop_cuss_features.csv')\n",
    "prepare_ngram_interaction(path+'test_porter.csv',path+'test_porter_stop_cuss_features.csv')                                                                                                   "
   ]
  },
  {
   "cell_type": "code",
   "execution_count": null,
   "metadata": {},
   "outputs": [],
   "source": []
  }
 ],
 "metadata": {
  "kernelspec": {
   "display_name": "ktc",
   "language": "python",
   "name": "ktc"
  },
  "language_info": {
   "codemirror_mode": {
    "name": "ipython",
    "version": 3
   },
   "file_extension": ".py",
   "mimetype": "text/x-python",
   "name": "python",
   "nbconvert_exporter": "python",
   "pygments_lexer": "ipython3",
   "version": "3.6.4"
  }
 },
 "nbformat": 4,
 "nbformat_minor": 2
}
